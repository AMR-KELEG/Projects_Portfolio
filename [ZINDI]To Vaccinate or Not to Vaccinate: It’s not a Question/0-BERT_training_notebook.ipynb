{
  "nbformat": 4,
  "nbformat_minor": 0,
  "metadata": {
    "colab": {
      "name": "BERT-training-notebook.ipynb",
      "provenance": [],
      "collapsed_sections": []
    },
    "kernelspec": {
      "name": "python3",
      "display_name": "Python 3"
    },
    "accelerator": "GPU",
    "widgets": {
      "application/vnd.jupyter.widget-state+json": {
        "aa8fa614997a4dd48c12ab320c8fa3d7": {
          "model_module": "@jupyter-widgets/controls",
          "model_name": "HBoxModel",
          "state": {
            "_view_name": "HBoxView",
            "_dom_classes": [],
            "_model_name": "HBoxModel",
            "_view_module": "@jupyter-widgets/controls",
            "_model_module_version": "1.5.0",
            "_view_count": null,
            "_view_module_version": "1.5.0",
            "box_style": "",
            "layout": "IPY_MODEL_1920bab27bc741c0bb206ae5fcd22b5c",
            "_model_module": "@jupyter-widgets/controls",
            "children": [
              "IPY_MODEL_97d2068f67884a73b567cccbe0b9cae3",
              "IPY_MODEL_177d541945ff45dc8064f59144d360ec"
            ]
          }
        },
        "1920bab27bc741c0bb206ae5fcd22b5c": {
          "model_module": "@jupyter-widgets/base",
          "model_name": "LayoutModel",
          "state": {
            "_view_name": "LayoutView",
            "grid_template_rows": null,
            "right": null,
            "justify_content": null,
            "_view_module": "@jupyter-widgets/base",
            "overflow": null,
            "_model_module_version": "1.2.0",
            "_view_count": null,
            "flex_flow": null,
            "width": null,
            "min_width": null,
            "border": null,
            "align_items": null,
            "bottom": null,
            "_model_module": "@jupyter-widgets/base",
            "top": null,
            "grid_column": null,
            "overflow_y": null,
            "overflow_x": null,
            "grid_auto_flow": null,
            "grid_area": null,
            "grid_template_columns": null,
            "flex": null,
            "_model_name": "LayoutModel",
            "justify_items": null,
            "grid_row": null,
            "max_height": null,
            "align_content": null,
            "visibility": null,
            "align_self": null,
            "height": null,
            "min_height": null,
            "padding": null,
            "grid_auto_rows": null,
            "grid_gap": null,
            "max_width": null,
            "order": null,
            "_view_module_version": "1.2.0",
            "grid_template_areas": null,
            "object_position": null,
            "object_fit": null,
            "grid_auto_columns": null,
            "margin": null,
            "display": null,
            "left": null
          }
        },
        "97d2068f67884a73b567cccbe0b9cae3": {
          "model_module": "@jupyter-widgets/controls",
          "model_name": "IntProgressModel",
          "state": {
            "_view_name": "ProgressView",
            "style": "IPY_MODEL_8f589ab2da184683b9b3d01c1390b7fc",
            "_dom_classes": [],
            "description": "Downloading: 100%",
            "_model_name": "IntProgressModel",
            "bar_style": "success",
            "max": 625,
            "_view_module": "@jupyter-widgets/controls",
            "_model_module_version": "1.5.0",
            "value": 625,
            "_view_count": null,
            "_view_module_version": "1.5.0",
            "orientation": "horizontal",
            "min": 0,
            "description_tooltip": null,
            "_model_module": "@jupyter-widgets/controls",
            "layout": "IPY_MODEL_22c4e528849f49ac8049477daf69cd08"
          }
        },
        "177d541945ff45dc8064f59144d360ec": {
          "model_module": "@jupyter-widgets/controls",
          "model_name": "HTMLModel",
          "state": {
            "_view_name": "HTMLView",
            "style": "IPY_MODEL_28df4ec670cc40208404dfa2c12b5fda",
            "_dom_classes": [],
            "description": "",
            "_model_name": "HTMLModel",
            "placeholder": "​",
            "_view_module": "@jupyter-widgets/controls",
            "_model_module_version": "1.5.0",
            "value": " 625/625 [00:01&lt;00:00, 490B/s]",
            "_view_count": null,
            "_view_module_version": "1.5.0",
            "description_tooltip": null,
            "_model_module": "@jupyter-widgets/controls",
            "layout": "IPY_MODEL_1b734724e8fe4e58b068c6d7d3435006"
          }
        },
        "8f589ab2da184683b9b3d01c1390b7fc": {
          "model_module": "@jupyter-widgets/controls",
          "model_name": "ProgressStyleModel",
          "state": {
            "_view_name": "StyleView",
            "_model_name": "ProgressStyleModel",
            "description_width": "initial",
            "_view_module": "@jupyter-widgets/base",
            "_model_module_version": "1.5.0",
            "_view_count": null,
            "_view_module_version": "1.2.0",
            "bar_color": null,
            "_model_module": "@jupyter-widgets/controls"
          }
        },
        "22c4e528849f49ac8049477daf69cd08": {
          "model_module": "@jupyter-widgets/base",
          "model_name": "LayoutModel",
          "state": {
            "_view_name": "LayoutView",
            "grid_template_rows": null,
            "right": null,
            "justify_content": null,
            "_view_module": "@jupyter-widgets/base",
            "overflow": null,
            "_model_module_version": "1.2.0",
            "_view_count": null,
            "flex_flow": null,
            "width": null,
            "min_width": null,
            "border": null,
            "align_items": null,
            "bottom": null,
            "_model_module": "@jupyter-widgets/base",
            "top": null,
            "grid_column": null,
            "overflow_y": null,
            "overflow_x": null,
            "grid_auto_flow": null,
            "grid_area": null,
            "grid_template_columns": null,
            "flex": null,
            "_model_name": "LayoutModel",
            "justify_items": null,
            "grid_row": null,
            "max_height": null,
            "align_content": null,
            "visibility": null,
            "align_self": null,
            "height": null,
            "min_height": null,
            "padding": null,
            "grid_auto_rows": null,
            "grid_gap": null,
            "max_width": null,
            "order": null,
            "_view_module_version": "1.2.0",
            "grid_template_areas": null,
            "object_position": null,
            "object_fit": null,
            "grid_auto_columns": null,
            "margin": null,
            "display": null,
            "left": null
          }
        },
        "28df4ec670cc40208404dfa2c12b5fda": {
          "model_module": "@jupyter-widgets/controls",
          "model_name": "DescriptionStyleModel",
          "state": {
            "_view_name": "StyleView",
            "_model_name": "DescriptionStyleModel",
            "description_width": "",
            "_view_module": "@jupyter-widgets/base",
            "_model_module_version": "1.5.0",
            "_view_count": null,
            "_view_module_version": "1.2.0",
            "_model_module": "@jupyter-widgets/controls"
          }
        },
        "1b734724e8fe4e58b068c6d7d3435006": {
          "model_module": "@jupyter-widgets/base",
          "model_name": "LayoutModel",
          "state": {
            "_view_name": "LayoutView",
            "grid_template_rows": null,
            "right": null,
            "justify_content": null,
            "_view_module": "@jupyter-widgets/base",
            "overflow": null,
            "_model_module_version": "1.2.0",
            "_view_count": null,
            "flex_flow": null,
            "width": null,
            "min_width": null,
            "border": null,
            "align_items": null,
            "bottom": null,
            "_model_module": "@jupyter-widgets/base",
            "top": null,
            "grid_column": null,
            "overflow_y": null,
            "overflow_x": null,
            "grid_auto_flow": null,
            "grid_area": null,
            "grid_template_columns": null,
            "flex": null,
            "_model_name": "LayoutModel",
            "justify_items": null,
            "grid_row": null,
            "max_height": null,
            "align_content": null,
            "visibility": null,
            "align_self": null,
            "height": null,
            "min_height": null,
            "padding": null,
            "grid_auto_rows": null,
            "grid_gap": null,
            "max_width": null,
            "order": null,
            "_view_module_version": "1.2.0",
            "grid_template_areas": null,
            "object_position": null,
            "object_fit": null,
            "grid_auto_columns": null,
            "margin": null,
            "display": null,
            "left": null
          }
        },
        "53ed93ba383344108e1363bc03e01189": {
          "model_module": "@jupyter-widgets/controls",
          "model_name": "HBoxModel",
          "state": {
            "_view_name": "HBoxView",
            "_dom_classes": [],
            "_model_name": "HBoxModel",
            "_view_module": "@jupyter-widgets/controls",
            "_model_module_version": "1.5.0",
            "_view_count": null,
            "_view_module_version": "1.5.0",
            "box_style": "",
            "layout": "IPY_MODEL_d12ab26fedc249c8b79ee2eb0f79057b",
            "_model_module": "@jupyter-widgets/controls",
            "children": [
              "IPY_MODEL_16a68998986c47f2bd433fbd49fb85f4",
              "IPY_MODEL_a9ea857382574ba09e2cac0b2cb2ffbd"
            ]
          }
        },
        "d12ab26fedc249c8b79ee2eb0f79057b": {
          "model_module": "@jupyter-widgets/base",
          "model_name": "LayoutModel",
          "state": {
            "_view_name": "LayoutView",
            "grid_template_rows": null,
            "right": null,
            "justify_content": null,
            "_view_module": "@jupyter-widgets/base",
            "overflow": null,
            "_model_module_version": "1.2.0",
            "_view_count": null,
            "flex_flow": null,
            "width": null,
            "min_width": null,
            "border": null,
            "align_items": null,
            "bottom": null,
            "_model_module": "@jupyter-widgets/base",
            "top": null,
            "grid_column": null,
            "overflow_y": null,
            "overflow_x": null,
            "grid_auto_flow": null,
            "grid_area": null,
            "grid_template_columns": null,
            "flex": null,
            "_model_name": "LayoutModel",
            "justify_items": null,
            "grid_row": null,
            "max_height": null,
            "align_content": null,
            "visibility": null,
            "align_self": null,
            "height": null,
            "min_height": null,
            "padding": null,
            "grid_auto_rows": null,
            "grid_gap": null,
            "max_width": null,
            "order": null,
            "_view_module_version": "1.2.0",
            "grid_template_areas": null,
            "object_position": null,
            "object_fit": null,
            "grid_auto_columns": null,
            "margin": null,
            "display": null,
            "left": null
          }
        },
        "16a68998986c47f2bd433fbd49fb85f4": {
          "model_module": "@jupyter-widgets/controls",
          "model_name": "IntProgressModel",
          "state": {
            "_view_name": "ProgressView",
            "style": "IPY_MODEL_4219c00d6e4e4eb4828da06ae21237e9",
            "_dom_classes": [],
            "description": "Downloading: 100%",
            "_model_name": "IntProgressModel",
            "bar_style": "success",
            "max": 213450,
            "_view_module": "@jupyter-widgets/controls",
            "_model_module_version": "1.5.0",
            "value": 213450,
            "_view_count": null,
            "_view_module_version": "1.5.0",
            "orientation": "horizontal",
            "min": 0,
            "description_tooltip": null,
            "_model_module": "@jupyter-widgets/controls",
            "layout": "IPY_MODEL_b4786fa4ee0a469e869873c9d6a7d393"
          }
        },
        "a9ea857382574ba09e2cac0b2cb2ffbd": {
          "model_module": "@jupyter-widgets/controls",
          "model_name": "HTMLModel",
          "state": {
            "_view_name": "HTMLView",
            "style": "IPY_MODEL_634e5b16890e44188406bfa45dd6520b",
            "_dom_classes": [],
            "description": "",
            "_model_name": "HTMLModel",
            "placeholder": "​",
            "_view_module": "@jupyter-widgets/controls",
            "_model_module_version": "1.5.0",
            "value": " 213k/213k [00:00&lt;00:00, 701kB/s]",
            "_view_count": null,
            "_view_module_version": "1.5.0",
            "description_tooltip": null,
            "_model_module": "@jupyter-widgets/controls",
            "layout": "IPY_MODEL_67c75542e0864abc92a006821f8efbb4"
          }
        },
        "4219c00d6e4e4eb4828da06ae21237e9": {
          "model_module": "@jupyter-widgets/controls",
          "model_name": "ProgressStyleModel",
          "state": {
            "_view_name": "StyleView",
            "_model_name": "ProgressStyleModel",
            "description_width": "initial",
            "_view_module": "@jupyter-widgets/base",
            "_model_module_version": "1.5.0",
            "_view_count": null,
            "_view_module_version": "1.2.0",
            "bar_color": null,
            "_model_module": "@jupyter-widgets/controls"
          }
        },
        "b4786fa4ee0a469e869873c9d6a7d393": {
          "model_module": "@jupyter-widgets/base",
          "model_name": "LayoutModel",
          "state": {
            "_view_name": "LayoutView",
            "grid_template_rows": null,
            "right": null,
            "justify_content": null,
            "_view_module": "@jupyter-widgets/base",
            "overflow": null,
            "_model_module_version": "1.2.0",
            "_view_count": null,
            "flex_flow": null,
            "width": null,
            "min_width": null,
            "border": null,
            "align_items": null,
            "bottom": null,
            "_model_module": "@jupyter-widgets/base",
            "top": null,
            "grid_column": null,
            "overflow_y": null,
            "overflow_x": null,
            "grid_auto_flow": null,
            "grid_area": null,
            "grid_template_columns": null,
            "flex": null,
            "_model_name": "LayoutModel",
            "justify_items": null,
            "grid_row": null,
            "max_height": null,
            "align_content": null,
            "visibility": null,
            "align_self": null,
            "height": null,
            "min_height": null,
            "padding": null,
            "grid_auto_rows": null,
            "grid_gap": null,
            "max_width": null,
            "order": null,
            "_view_module_version": "1.2.0",
            "grid_template_areas": null,
            "object_position": null,
            "object_fit": null,
            "grid_auto_columns": null,
            "margin": null,
            "display": null,
            "left": null
          }
        },
        "634e5b16890e44188406bfa45dd6520b": {
          "model_module": "@jupyter-widgets/controls",
          "model_name": "DescriptionStyleModel",
          "state": {
            "_view_name": "StyleView",
            "_model_name": "DescriptionStyleModel",
            "description_width": "",
            "_view_module": "@jupyter-widgets/base",
            "_model_module_version": "1.5.0",
            "_view_count": null,
            "_view_module_version": "1.2.0",
            "_model_module": "@jupyter-widgets/controls"
          }
        },
        "67c75542e0864abc92a006821f8efbb4": {
          "model_module": "@jupyter-widgets/base",
          "model_name": "LayoutModel",
          "state": {
            "_view_name": "LayoutView",
            "grid_template_rows": null,
            "right": null,
            "justify_content": null,
            "_view_module": "@jupyter-widgets/base",
            "overflow": null,
            "_model_module_version": "1.2.0",
            "_view_count": null,
            "flex_flow": null,
            "width": null,
            "min_width": null,
            "border": null,
            "align_items": null,
            "bottom": null,
            "_model_module": "@jupyter-widgets/base",
            "top": null,
            "grid_column": null,
            "overflow_y": null,
            "overflow_x": null,
            "grid_auto_flow": null,
            "grid_area": null,
            "grid_template_columns": null,
            "flex": null,
            "_model_name": "LayoutModel",
            "justify_items": null,
            "grid_row": null,
            "max_height": null,
            "align_content": null,
            "visibility": null,
            "align_self": null,
            "height": null,
            "min_height": null,
            "padding": null,
            "grid_auto_rows": null,
            "grid_gap": null,
            "max_width": null,
            "order": null,
            "_view_module_version": "1.2.0",
            "grid_template_areas": null,
            "object_position": null,
            "object_fit": null,
            "grid_auto_columns": null,
            "margin": null,
            "display": null,
            "left": null
          }
        },
        "cc517be267e64640a0d1a4eb20ac03d2": {
          "model_module": "@jupyter-widgets/controls",
          "model_name": "HBoxModel",
          "state": {
            "_view_name": "HBoxView",
            "_dom_classes": [],
            "_model_name": "HBoxModel",
            "_view_module": "@jupyter-widgets/controls",
            "_model_module_version": "1.5.0",
            "_view_count": null,
            "_view_module_version": "1.5.0",
            "box_style": "",
            "layout": "IPY_MODEL_aa158defb08b45a3a3f86bf6f3bb80fe",
            "_model_module": "@jupyter-widgets/controls",
            "children": [
              "IPY_MODEL_f1f67f9851384cb7b6c2e656d36ffb0a",
              "IPY_MODEL_f62e8f653fc4458b86776fc7484a78e6"
            ]
          }
        },
        "aa158defb08b45a3a3f86bf6f3bb80fe": {
          "model_module": "@jupyter-widgets/base",
          "model_name": "LayoutModel",
          "state": {
            "_view_name": "LayoutView",
            "grid_template_rows": null,
            "right": null,
            "justify_content": null,
            "_view_module": "@jupyter-widgets/base",
            "overflow": null,
            "_model_module_version": "1.2.0",
            "_view_count": null,
            "flex_flow": null,
            "width": null,
            "min_width": null,
            "border": null,
            "align_items": null,
            "bottom": null,
            "_model_module": "@jupyter-widgets/base",
            "top": null,
            "grid_column": null,
            "overflow_y": null,
            "overflow_x": null,
            "grid_auto_flow": null,
            "grid_area": null,
            "grid_template_columns": null,
            "flex": null,
            "_model_name": "LayoutModel",
            "justify_items": null,
            "grid_row": null,
            "max_height": null,
            "align_content": null,
            "visibility": null,
            "align_self": null,
            "height": null,
            "min_height": null,
            "padding": null,
            "grid_auto_rows": null,
            "grid_gap": null,
            "max_width": null,
            "order": null,
            "_view_module_version": "1.2.0",
            "grid_template_areas": null,
            "object_position": null,
            "object_fit": null,
            "grid_auto_columns": null,
            "margin": null,
            "display": null,
            "left": null
          }
        },
        "f1f67f9851384cb7b6c2e656d36ffb0a": {
          "model_module": "@jupyter-widgets/controls",
          "model_name": "IntProgressModel",
          "state": {
            "_view_name": "ProgressView",
            "style": "IPY_MODEL_da556108ab4541ad9bc8cc84da7f27d1",
            "_dom_classes": [],
            "description": "Downloading: 100%",
            "_model_name": "IntProgressModel",
            "bar_style": "success",
            "max": 1338740706,
            "_view_module": "@jupyter-widgets/controls",
            "_model_module_version": "1.5.0",
            "value": 1338740706,
            "_view_count": null,
            "_view_module_version": "1.5.0",
            "orientation": "horizontal",
            "min": 0,
            "description_tooltip": null,
            "_model_module": "@jupyter-widgets/controls",
            "layout": "IPY_MODEL_4b32bb1be2a042b38b05742964ce22e2"
          }
        },
        "f62e8f653fc4458b86776fc7484a78e6": {
          "model_module": "@jupyter-widgets/controls",
          "model_name": "HTMLModel",
          "state": {
            "_view_name": "HTMLView",
            "style": "IPY_MODEL_744425fc7dd349ec819a9c6592ba520f",
            "_dom_classes": [],
            "description": "",
            "_model_name": "HTMLModel",
            "placeholder": "​",
            "_view_module": "@jupyter-widgets/controls",
            "_model_module_version": "1.5.0",
            "value": " 1.34G/1.34G [00:45&lt;00:00, 29.6MB/s]",
            "_view_count": null,
            "_view_module_version": "1.5.0",
            "description_tooltip": null,
            "_model_module": "@jupyter-widgets/controls",
            "layout": "IPY_MODEL_7d134210561c48b69bcf916e82503e05"
          }
        },
        "da556108ab4541ad9bc8cc84da7f27d1": {
          "model_module": "@jupyter-widgets/controls",
          "model_name": "ProgressStyleModel",
          "state": {
            "_view_name": "StyleView",
            "_model_name": "ProgressStyleModel",
            "description_width": "initial",
            "_view_module": "@jupyter-widgets/base",
            "_model_module_version": "1.5.0",
            "_view_count": null,
            "_view_module_version": "1.2.0",
            "bar_color": null,
            "_model_module": "@jupyter-widgets/controls"
          }
        },
        "4b32bb1be2a042b38b05742964ce22e2": {
          "model_module": "@jupyter-widgets/base",
          "model_name": "LayoutModel",
          "state": {
            "_view_name": "LayoutView",
            "grid_template_rows": null,
            "right": null,
            "justify_content": null,
            "_view_module": "@jupyter-widgets/base",
            "overflow": null,
            "_model_module_version": "1.2.0",
            "_view_count": null,
            "flex_flow": null,
            "width": null,
            "min_width": null,
            "border": null,
            "align_items": null,
            "bottom": null,
            "_model_module": "@jupyter-widgets/base",
            "top": null,
            "grid_column": null,
            "overflow_y": null,
            "overflow_x": null,
            "grid_auto_flow": null,
            "grid_area": null,
            "grid_template_columns": null,
            "flex": null,
            "_model_name": "LayoutModel",
            "justify_items": null,
            "grid_row": null,
            "max_height": null,
            "align_content": null,
            "visibility": null,
            "align_self": null,
            "height": null,
            "min_height": null,
            "padding": null,
            "grid_auto_rows": null,
            "grid_gap": null,
            "max_width": null,
            "order": null,
            "_view_module_version": "1.2.0",
            "grid_template_areas": null,
            "object_position": null,
            "object_fit": null,
            "grid_auto_columns": null,
            "margin": null,
            "display": null,
            "left": null
          }
        },
        "744425fc7dd349ec819a9c6592ba520f": {
          "model_module": "@jupyter-widgets/controls",
          "model_name": "DescriptionStyleModel",
          "state": {
            "_view_name": "StyleView",
            "_model_name": "DescriptionStyleModel",
            "description_width": "",
            "_view_module": "@jupyter-widgets/base",
            "_model_module_version": "1.5.0",
            "_view_count": null,
            "_view_module_version": "1.2.0",
            "_model_module": "@jupyter-widgets/controls"
          }
        },
        "7d134210561c48b69bcf916e82503e05": {
          "model_module": "@jupyter-widgets/base",
          "model_name": "LayoutModel",
          "state": {
            "_view_name": "LayoutView",
            "grid_template_rows": null,
            "right": null,
            "justify_content": null,
            "_view_module": "@jupyter-widgets/base",
            "overflow": null,
            "_model_module_version": "1.2.0",
            "_view_count": null,
            "flex_flow": null,
            "width": null,
            "min_width": null,
            "border": null,
            "align_items": null,
            "bottom": null,
            "_model_module": "@jupyter-widgets/base",
            "top": null,
            "grid_column": null,
            "overflow_y": null,
            "overflow_x": null,
            "grid_auto_flow": null,
            "grid_area": null,
            "grid_template_columns": null,
            "flex": null,
            "_model_name": "LayoutModel",
            "justify_items": null,
            "grid_row": null,
            "max_height": null,
            "align_content": null,
            "visibility": null,
            "align_self": null,
            "height": null,
            "min_height": null,
            "padding": null,
            "grid_auto_rows": null,
            "grid_gap": null,
            "max_width": null,
            "order": null,
            "_view_module_version": "1.2.0",
            "grid_template_areas": null,
            "object_position": null,
            "object_fit": null,
            "grid_auto_columns": null,
            "margin": null,
            "display": null,
            "left": null
          }
        }
      }
    }
  },
  "cells": [
    {
      "cell_type": "markdown",
      "metadata": {
        "id": "C24PvdAZPy-P",
        "colab_type": "text"
      },
      "source": [
        "# Acquire the data\n",
        "- This notebook is supposed to be run using Google Colab\n",
        "- The notebook will be accessing the datasets from Google Drive\n",
        "- To get started:\n",
        "  - Download the data from https://zindi.africa/hackathons/to-vaccinate-or-not-to-vaccinate-its-not-a-question/data\n",
        "  - Create a folder in which you would like to add your data e.g: `vaccinate`\n",
        "  - Upload the data to a sub-folder called `data` Acquisatione.g: `vaccinate/data`\n",
        "  - Create two sub-folders called `models` and `submissions` e.g: `vaccinate/models` and `vaccinate/submissions`\n",
        "- Now, you are ready to run the notebook"
      ]
    },
    {
      "cell_type": "markdown",
      "metadata": {
        "id": "dgIdMS6qROz4",
        "colab_type": "text"
      },
      "source": [
        "# Mount Google Drive"
      ]
    },
    {
      "cell_type": "code",
      "metadata": {
        "id": "1Gp4gOKd6LZb",
        "colab_type": "code",
        "outputId": "b1f2ebcb-f8d5-460f-ba0a-458d94cb2f83",
        "colab": {
          "base_uri": "https://localhost:8080/",
          "height": 129
        }
      },
      "source": [
        "# Mount Google Drive to be able to access files stored there\n",
        "from google.colab import drive\n",
        "drive.mount('/drive/')"
      ],
      "execution_count": 1,
      "outputs": [
        {
          "output_type": "stream",
          "text": [
            "Go to this URL in a browser: https://accounts.google.com/o/oauth2/auth?client_id=947318989803-6bn6qk8qdgf4n4g3pfee6491hc0brc4i.apps.googleusercontent.com&redirect_uri=urn%3aietf%3awg%3aoauth%3a2.0%3aoob&response_type=code&scope=email%20https%3a%2f%2fwww.googleapis.com%2fauth%2fdocs.test%20https%3a%2f%2fwww.googleapis.com%2fauth%2fdrive%20https%3a%2f%2fwww.googleapis.com%2fauth%2fdrive.photos.readonly%20https%3a%2f%2fwww.googleapis.com%2fauth%2fpeopleapi.readonly\n",
            "\n",
            "Enter your authorization code:\n",
            "··········\n",
            "Mounted at /drive/\n"
          ],
          "name": "stdout"
        }
      ]
    },
    {
      "cell_type": "code",
      "metadata": {
        "id": "P7Q4Dh2S7QTO",
        "colab_type": "code",
        "outputId": "c29e24e4-a228-439a-b209-b8d103db8239",
        "colab": {
          "base_uri": "https://localhost:8080/",
          "height": 36
        }
      },
      "source": [
        "# Navigate to the folder containing the data and empty models folder\n",
        "% cd \"/drive/My Drive/vaccinate\""
      ],
      "execution_count": 2,
      "outputs": [
        {
          "output_type": "stream",
          "text": [
            "/drive/My Drive/vaccinate\n"
          ],
          "name": "stdout"
        }
      ]
    },
    {
      "cell_type": "markdown",
      "metadata": {
        "id": "wtc6s00URV67",
        "colab_type": "text"
      },
      "source": [
        "# Load the datasets"
      ]
    },
    {
      "cell_type": "code",
      "metadata": {
        "id": "CodJK8SV6xOd",
        "colab_type": "code",
        "colab": {}
      },
      "source": [
        "import pandas as pd\n",
        "from sklearn.model_selection import train_test_split"
      ],
      "execution_count": 0,
      "outputs": []
    },
    {
      "cell_type": "code",
      "metadata": {
        "id": "D8JGl77S7JmT",
        "colab_type": "code",
        "colab": {}
      },
      "source": [
        "train_df, dev_df = train_test_split(pd.read_csv('data/Train.csv').dropna(), random_state=42)"
      ],
      "execution_count": 0,
      "outputs": []
    },
    {
      "cell_type": "code",
      "metadata": {
        "id": "LUDS1A267n3W",
        "colab_type": "code",
        "colab": {}
      },
      "source": [
        "test_df = pd.read_csv('data/Test.csv')"
      ],
      "execution_count": 0,
      "outputs": []
    },
    {
      "cell_type": "code",
      "metadata": {
        "id": "PcMChlxs7IEf",
        "colab_type": "code",
        "outputId": "536bd2bf-3629-49ac-b14b-66822cc74495",
        "colab": {
          "base_uri": "https://localhost:8080/",
          "height": 218
        }
      },
      "source": [
        "train_df.info()"
      ],
      "execution_count": 6,
      "outputs": [
        {
          "output_type": "stream",
          "text": [
            "<class 'pandas.core.frame.DataFrame'>\n",
            "Int64Index: 7499 entries, 4902 to 7272\n",
            "Data columns (total 4 columns):\n",
            " #   Column     Non-Null Count  Dtype  \n",
            "---  ------     --------------  -----  \n",
            " 0   tweet_id   7499 non-null   object \n",
            " 1   safe_text  7499 non-null   object \n",
            " 2   label      7499 non-null   float64\n",
            " 3   agreement  7499 non-null   float64\n",
            "dtypes: float64(2), object(2)\n",
            "memory usage: 292.9+ KB\n"
          ],
          "name": "stdout"
        }
      ]
    },
    {
      "cell_type": "markdown",
      "metadata": {
        "id": "AEXmZD0VRcBr",
        "colab_type": "text"
      },
      "source": [
        "# Install transformers package\n",
        "Huggingface's `transformers` package provides an easy way to fine-tune pretrained models such as `BERT`"
      ]
    },
    {
      "cell_type": "code",
      "metadata": {
        "id": "KNc7sylw5oEB",
        "colab_type": "code",
        "outputId": "f933a84a-dd50-40be-fb99-e89bf731500a",
        "colab": {
          "base_uri": "https://localhost:8080/",
          "height": 732
        }
      },
      "source": [
        "! pip install transformers"
      ],
      "execution_count": 7,
      "outputs": [
        {
          "output_type": "stream",
          "text": [
            "Collecting transformers\n",
            "\u001b[?25l  Downloading https://files.pythonhosted.org/packages/a3/78/92cedda05552398352ed9784908b834ee32a0bd071a9b32de287327370b7/transformers-2.8.0-py3-none-any.whl (563kB)\n",
            "\r\u001b[K     |▋                               | 10kB 12.4MB/s eta 0:00:01\r\u001b[K     |█▏                              | 20kB 6.5MB/s eta 0:00:01\r\u001b[K     |█▊                              | 30kB 7.7MB/s eta 0:00:01\r\u001b[K     |██▎                             | 40kB 7.7MB/s eta 0:00:01\r\u001b[K     |███                             | 51kB 7.0MB/s eta 0:00:01\r\u001b[K     |███▌                            | 61kB 7.7MB/s eta 0:00:01\r\u001b[K     |████                            | 71kB 8.4MB/s eta 0:00:01\r\u001b[K     |████▋                           | 81kB 8.8MB/s eta 0:00:01\r\u001b[K     |█████▎                          | 92kB 8.3MB/s eta 0:00:01\r\u001b[K     |█████▉                          | 102kB 8.9MB/s eta 0:00:01\r\u001b[K     |██████▍                         | 112kB 8.9MB/s eta 0:00:01\r\u001b[K     |███████                         | 122kB 8.9MB/s eta 0:00:01\r\u001b[K     |███████▋                        | 133kB 8.9MB/s eta 0:00:01\r\u001b[K     |████████▏                       | 143kB 8.9MB/s eta 0:00:01\r\u001b[K     |████████▊                       | 153kB 8.9MB/s eta 0:00:01\r\u001b[K     |█████████▎                      | 163kB 8.9MB/s eta 0:00:01\r\u001b[K     |█████████▉                      | 174kB 8.9MB/s eta 0:00:01\r\u001b[K     |██████████▌                     | 184kB 8.9MB/s eta 0:00:01\r\u001b[K     |███████████                     | 194kB 8.9MB/s eta 0:00:01\r\u001b[K     |███████████▋                    | 204kB 8.9MB/s eta 0:00:01\r\u001b[K     |████████████▏                   | 215kB 8.9MB/s eta 0:00:01\r\u001b[K     |████████████▉                   | 225kB 8.9MB/s eta 0:00:01\r\u001b[K     |█████████████▍                  | 235kB 8.9MB/s eta 0:00:01\r\u001b[K     |██████████████                  | 245kB 8.9MB/s eta 0:00:01\r\u001b[K     |██████████████▌                 | 256kB 8.9MB/s eta 0:00:01\r\u001b[K     |███████████████▏                | 266kB 8.9MB/s eta 0:00:01\r\u001b[K     |███████████████▊                | 276kB 8.9MB/s eta 0:00:01\r\u001b[K     |████████████████▎               | 286kB 8.9MB/s eta 0:00:01\r\u001b[K     |████████████████▉               | 296kB 8.9MB/s eta 0:00:01\r\u001b[K     |█████████████████▍              | 307kB 8.9MB/s eta 0:00:01\r\u001b[K     |██████████████████              | 317kB 8.9MB/s eta 0:00:01\r\u001b[K     |██████████████████▋             | 327kB 8.9MB/s eta 0:00:01\r\u001b[K     |███████████████████▏            | 337kB 8.9MB/s eta 0:00:01\r\u001b[K     |███████████████████▊            | 348kB 8.9MB/s eta 0:00:01\r\u001b[K     |████████████████████▍           | 358kB 8.9MB/s eta 0:00:01\r\u001b[K     |█████████████████████           | 368kB 8.9MB/s eta 0:00:01\r\u001b[K     |█████████████████████▌          | 378kB 8.9MB/s eta 0:00:01\r\u001b[K     |██████████████████████          | 389kB 8.9MB/s eta 0:00:01\r\u001b[K     |██████████████████████▊         | 399kB 8.9MB/s eta 0:00:01\r\u001b[K     |███████████████████████▎        | 409kB 8.9MB/s eta 0:00:01\r\u001b[K     |███████████████████████▉        | 419kB 8.9MB/s eta 0:00:01\r\u001b[K     |████████████████████████▍       | 430kB 8.9MB/s eta 0:00:01\r\u001b[K     |█████████████████████████       | 440kB 8.9MB/s eta 0:00:01\r\u001b[K     |█████████████████████████▋      | 450kB 8.9MB/s eta 0:00:01\r\u001b[K     |██████████████████████████▏     | 460kB 8.9MB/s eta 0:00:01\r\u001b[K     |██████████████████████████▊     | 471kB 8.9MB/s eta 0:00:01\r\u001b[K     |███████████████████████████▎    | 481kB 8.9MB/s eta 0:00:01\r\u001b[K     |████████████████████████████    | 491kB 8.9MB/s eta 0:00:01\r\u001b[K     |████████████████████████████▌   | 501kB 8.9MB/s eta 0:00:01\r\u001b[K     |█████████████████████████████   | 512kB 8.9MB/s eta 0:00:01\r\u001b[K     |█████████████████████████████▋  | 522kB 8.9MB/s eta 0:00:01\r\u001b[K     |██████████████████████████████▎ | 532kB 8.9MB/s eta 0:00:01\r\u001b[K     |██████████████████████████████▉ | 542kB 8.9MB/s eta 0:00:01\r\u001b[K     |███████████████████████████████▍| 552kB 8.9MB/s eta 0:00:01\r\u001b[K     |████████████████████████████████| 563kB 8.9MB/s eta 0:00:01\r\u001b[K     |████████████████████████████████| 573kB 8.9MB/s \n",
            "\u001b[?25hRequirement already satisfied: requests in /usr/local/lib/python3.6/dist-packages (from transformers) (2.23.0)\n",
            "Collecting tokenizers==0.5.2\n",
            "\u001b[?25l  Downloading https://files.pythonhosted.org/packages/d1/3f/73c881ea4723e43c1e9acf317cf407fab3a278daab3a69c98dcac511c04f/tokenizers-0.5.2-cp36-cp36m-manylinux1_x86_64.whl (3.7MB)\n",
            "\u001b[K     |████████████████████████████████| 3.7MB 24.8MB/s \n",
            "\u001b[?25hRequirement already satisfied: filelock in /usr/local/lib/python3.6/dist-packages (from transformers) (3.0.12)\n",
            "Collecting sentencepiece\n",
            "\u001b[?25l  Downloading https://files.pythonhosted.org/packages/98/2c/8df20f3ac6c22ac224fff307ebc102818206c53fc454ecd37d8ac2060df5/sentencepiece-0.1.86-cp36-cp36m-manylinux1_x86_64.whl (1.0MB)\n",
            "\u001b[K     |████████████████████████████████| 1.0MB 53.0MB/s \n",
            "\u001b[?25hRequirement already satisfied: boto3 in /usr/local/lib/python3.6/dist-packages (from transformers) (1.12.47)\n",
            "Requirement already satisfied: numpy in /usr/local/lib/python3.6/dist-packages (from transformers) (1.18.3)\n",
            "Collecting sacremoses\n",
            "\u001b[?25l  Downloading https://files.pythonhosted.org/packages/99/50/93509f906a40bffd7d175f97fd75ea328ad9bd91f48f59c4bd084c94a25e/sacremoses-0.0.41.tar.gz (883kB)\n",
            "\u001b[K     |████████████████████████████████| 890kB 55.1MB/s \n",
            "\u001b[?25hRequirement already satisfied: tqdm>=4.27 in /usr/local/lib/python3.6/dist-packages (from transformers) (4.38.0)\n",
            "Requirement already satisfied: dataclasses; python_version < \"3.7\" in /usr/local/lib/python3.6/dist-packages (from transformers) (0.7)\n",
            "Requirement already satisfied: regex!=2019.12.17 in /usr/local/lib/python3.6/dist-packages (from transformers) (2019.12.20)\n",
            "Requirement already satisfied: certifi>=2017.4.17 in /usr/local/lib/python3.6/dist-packages (from requests->transformers) (2020.4.5.1)\n",
            "Requirement already satisfied: urllib3!=1.25.0,!=1.25.1,<1.26,>=1.21.1 in /usr/local/lib/python3.6/dist-packages (from requests->transformers) (1.24.3)\n",
            "Requirement already satisfied: chardet<4,>=3.0.2 in /usr/local/lib/python3.6/dist-packages (from requests->transformers) (3.0.4)\n",
            "Requirement already satisfied: idna<3,>=2.5 in /usr/local/lib/python3.6/dist-packages (from requests->transformers) (2.9)\n",
            "Requirement already satisfied: jmespath<1.0.0,>=0.7.1 in /usr/local/lib/python3.6/dist-packages (from boto3->transformers) (0.9.5)\n",
            "Requirement already satisfied: botocore<1.16.0,>=1.15.47 in /usr/local/lib/python3.6/dist-packages (from boto3->transformers) (1.15.47)\n",
            "Requirement already satisfied: s3transfer<0.4.0,>=0.3.0 in /usr/local/lib/python3.6/dist-packages (from boto3->transformers) (0.3.3)\n",
            "Requirement already satisfied: six in /usr/local/lib/python3.6/dist-packages (from sacremoses->transformers) (1.12.0)\n",
            "Requirement already satisfied: click in /usr/local/lib/python3.6/dist-packages (from sacremoses->transformers) (7.1.2)\n",
            "Requirement already satisfied: joblib in /usr/local/lib/python3.6/dist-packages (from sacremoses->transformers) (0.14.1)\n",
            "Requirement already satisfied: python-dateutil<3.0.0,>=2.1 in /usr/local/lib/python3.6/dist-packages (from botocore<1.16.0,>=1.15.47->boto3->transformers) (2.8.1)\n",
            "Requirement already satisfied: docutils<0.16,>=0.10 in /usr/local/lib/python3.6/dist-packages (from botocore<1.16.0,>=1.15.47->boto3->transformers) (0.15.2)\n",
            "Building wheels for collected packages: sacremoses\n",
            "  Building wheel for sacremoses (setup.py) ... \u001b[?25l\u001b[?25hdone\n",
            "  Created wheel for sacremoses: filename=sacremoses-0.0.41-cp36-none-any.whl size=893334 sha256=011d2fe9975cad61603c9d0006f42a5480f31939c1a603542a6100f44123b2ac\n",
            "  Stored in directory: /root/.cache/pip/wheels/22/5a/d4/b020a81249de7dc63758a34222feaa668dbe8ebfe9170cc9b1\n",
            "Successfully built sacremoses\n",
            "Installing collected packages: tokenizers, sentencepiece, sacremoses, transformers\n",
            "Successfully installed sacremoses-0.0.41 sentencepiece-0.1.86 tokenizers-0.5.2 transformers-2.8.0\n"
          ],
          "name": "stdout"
        }
      ]
    },
    {
      "cell_type": "markdown",
      "metadata": {
        "id": "v7Fp6rKISKJn",
        "colab_type": "text"
      },
      "source": [
        "# Investigate the no of tokens in each tweet\n",
        "`BERT` is a deep neural networks. To train these networks, one need to divide the dataset into batches. Samples in each batch should have the same number of tokens such that the data can be represented as a matrix. This is a cruical point to make sure that the model is trained on each minibatch."
      ]
    },
    {
      "cell_type": "code",
      "metadata": {
        "id": "YD-70CjzuYmA",
        "colab_type": "code",
        "colab": {
          "base_uri": "https://localhost:8080/",
          "height": 117,
          "referenced_widgets": [
            "aa8fa614997a4dd48c12ab320c8fa3d7",
            "1920bab27bc741c0bb206ae5fcd22b5c",
            "97d2068f67884a73b567cccbe0b9cae3",
            "177d541945ff45dc8064f59144d360ec",
            "8f589ab2da184683b9b3d01c1390b7fc",
            "22c4e528849f49ac8049477daf69cd08",
            "28df4ec670cc40208404dfa2c12b5fda",
            "1b734724e8fe4e58b068c6d7d3435006",
            "53ed93ba383344108e1363bc03e01189",
            "d12ab26fedc249c8b79ee2eb0f79057b",
            "16a68998986c47f2bd433fbd49fb85f4",
            "a9ea857382574ba09e2cac0b2cb2ffbd",
            "4219c00d6e4e4eb4828da06ae21237e9",
            "b4786fa4ee0a469e869873c9d6a7d393",
            "634e5b16890e44188406bfa45dd6520b",
            "67c75542e0864abc92a006821f8efbb4"
          ]
        },
        "outputId": "ef67ddf7-0c74-40d0-edc6-090559048a22"
      },
      "source": [
        "from transformers import AutoTokenizer\n",
        "tokenizer = AutoTokenizer.from_pretrained('bert-large-cased')"
      ],
      "execution_count": 8,
      "outputs": [
        {
          "output_type": "display_data",
          "data": {
            "application/vnd.jupyter.widget-view+json": {
              "model_id": "aa8fa614997a4dd48c12ab320c8fa3d7",
              "version_minor": 0,
              "version_major": 2
            },
            "text/plain": [
              "HBox(children=(IntProgress(value=0, description='Downloading', max=625, style=ProgressStyle(description_width=…"
            ]
          },
          "metadata": {
            "tags": []
          }
        },
        {
          "output_type": "stream",
          "text": [
            "\n"
          ],
          "name": "stdout"
        },
        {
          "output_type": "display_data",
          "data": {
            "application/vnd.jupyter.widget-view+json": {
              "model_id": "53ed93ba383344108e1363bc03e01189",
              "version_minor": 0,
              "version_major": 2
            },
            "text/plain": [
              "HBox(children=(IntProgress(value=0, description='Downloading', max=213450, style=ProgressStyle(description_wid…"
            ]
          },
          "metadata": {
            "tags": []
          }
        },
        {
          "output_type": "stream",
          "text": [
            "\n"
          ],
          "name": "stdout"
        }
      ]
    },
    {
      "cell_type": "code",
      "metadata": {
        "id": "Rcy3PxM5vCnY",
        "colab_type": "code",
        "colab": {}
      },
      "source": [
        "tokens = train_df['safe_text'].apply(lambda s: tokenizer.encode(s))"
      ],
      "execution_count": 0,
      "outputs": []
    },
    {
      "cell_type": "code",
      "metadata": {
        "id": "vIoda1MEvOLl",
        "colab_type": "code",
        "outputId": "772f99da-6201-46b0-cb90-f541ea7708a5",
        "colab": {
          "base_uri": "https://localhost:8080/",
          "height": 284
        }
      },
      "source": [
        "pd.Series([len(l) for l in tokens]).plot.hist()"
      ],
      "execution_count": 10,
      "outputs": [
        {
          "output_type": "execute_result",
          "data": {
            "text/plain": [
              "<matplotlib.axes._subplots.AxesSubplot at 0x7f7bef1516a0>"
            ]
          },
          "metadata": {
            "tags": []
          },
          "execution_count": 10
        },
        {
          "output_type": "display_data",
          "data": {
            "image/png": "[encoded data removed]",
            "text/plain": [
              "<Figure size 432x288 with 1 Axes>"
            ]
          },
          "metadata": {
            "tags": [],
            "needs_background": "light"
          }
        }
      ]
    },
    {
      "cell_type": "markdown",
      "metadata": {
        "id": "SkHISUDVS_5z",
        "colab_type": "text"
      },
      "source": [
        "# Define the used model\n",
        "- The model will use data that is truncated (or padded) to 50 tokens since most of the tweets have less than 50 tokens."
      ]
    },
    {
      "cell_type": "code",
      "metadata": {
        "id": "8bF9NHGd08OX",
        "colab_type": "code",
        "colab": {}
      },
      "source": [
        "# Setting the seed this way doesn't make my results reproducible!\n",
        "import random\n",
        "import numpy as np\n",
        "import torch\n",
        "seed = 42\n",
        "def set_seed(seed):\n",
        "    random.seed(seed)\n",
        "    np.random.seed(seed)\n",
        "    torch.manual_seed(seed)\n",
        "    torch.cuda.manual_seed_all(seed)\n",
        "\n",
        "set_seed(seed)"
      ],
      "execution_count": 0,
      "outputs": []
    },
    {
      "cell_type": "code",
      "metadata": {
        "id": "10rad-4Ztcbu",
        "colab_type": "code",
        "colab": {}
      },
      "source": [
        "import numpy as np\n",
        "from scipy.special import softmax\n",
        "from torch import nn, optim, tensor, argmax\n",
        "from torch.utils.data import Dataset, DataLoader\n",
        "from transformers import AutoTokenizer, AutoModelForSequenceClassification, AutoConfig\n",
        "\n",
        "class CustomDataset(Dataset):\n",
        "    '''\n",
        "    This class provides a way to tokenize the dataset such that it is used\n",
        "    by pytorch's dataloader\n",
        "    '''\n",
        "    def __init__(self, dataframe, model_name, max_seq_length=50, pad_to_max_length=True, is_test=False):\n",
        "        self.len = len(dataframe)\n",
        "        self.data = dataframe\n",
        "        self.max_seq_length = max_seq_length\n",
        "        self.pad_to_max_length = pad_to_max_length\n",
        "        self.tokenizer = AutoTokenizer.from_pretrained(model_name)\n",
        "        self.is_test = is_test\n",
        "\n",
        "    def encode(self, sentence):\n",
        "        # This adds [CLS] and [SEP] by default\n",
        "        return self.tokenizer.encode(\n",
        "            sentence, max_length=self.max_seq_length, pad_to_max_length=self.pad_to_max_length)\n",
        "\n",
        "    def __getitem__(self, index):\n",
        "        # This function is used by the dataloader\n",
        "        item = self.data.iloc[index]\n",
        "        text = item['safe_text']\n",
        "        if self.is_test:\n",
        "          label = -1\n",
        "        else:\n",
        "          # Pytorch doesn't support using -1 as a label\n",
        "          # Thus, labels are mapped to [0, 1, 2] instead of [-1, 0, 1]\n",
        "          label = 1 + int(item['label'])\n",
        "        X = self.encode(text)\n",
        "        return tensor(X), label\n",
        "\n",
        "    def __len__(self):\n",
        "        # This function is used by the dataloader\n",
        "        return self.len\n",
        "\n",
        "class BertModel:\n",
        "    def __init__(self, model_name, config):\n",
        "        self.model_name = model_name\n",
        "        self.model = AutoModelForSequenceClassification.from_pretrained(model_name, config=config).cuda()\n",
        "        self.tokenizer = AutoTokenizer.from_pretrained(model_name)\n",
        "\n",
        "    def get_params(self):\n",
        "        return self.model.parameters()\n",
        "\n",
        "    def fit(self, train_df, epochs=4, learning_rate=1e-05, weight_decay=1e-5, params=None):\n",
        "        if not params:\n",
        "            params = {'batch_size': 30,\n",
        "                     'shuffle': False,\n",
        "                     'drop_last': False,\n",
        "                     'num_workers': 1}\n",
        "\n",
        "        train_dataloader = DataLoader(\n",
        "            CustomDataset(train_df, self.model_name, max_seq_length=50, pad_to_max_length=True),\n",
        "            **params)\n",
        "\n",
        "        # Create optimizer\n",
        "        # nn.MSELoss() was also used but didn't improve the results\n",
        "        loss_function = nn.CrossEntropyLoss()\n",
        "\n",
        "        optimizer = optim.Adam(params = self.get_params(), lr=learning_rate, weight_decay=weight_decay)\n",
        "\n",
        "        self.model.train()\n",
        "        average_loss = 0\n",
        "\n",
        "        for epoch in range(epochs):\n",
        "            for batch_number, (tokens, labels) in enumerate(train_dataloader):\n",
        "                tokens = tokens.cuda()\n",
        "                labels = labels.cuda()\n",
        "\n",
        "                optimizer.zero_grad()\n",
        "                # Forward pass\n",
        "                outputs = self.model.forward(tokens)[0]\n",
        "                predicted = argmax(outputs, dim=1)\n",
        "                loss = loss_function(outputs, labels)\n",
        "                # Backward pass\n",
        "                loss.backward()\n",
        "                optimizer.step()\n",
        "                average_loss += loss\n",
        "                if batch_number % 100 == 0:\n",
        "                    average_loss = average_loss / 100\n",
        "                    print(f'Epoch {epoch}: Batch {batch_number} -> Average loss {average_loss}')\n",
        "                    average_loss = 0\n",
        "\n",
        "    def predict(self, df, params=None):\n",
        "        '''This function only chooses the most probable class'''\n",
        "        if not params:\n",
        "            params = {'batch_size': 100,\n",
        "                     'shuffle': False,\n",
        "                     'drop_last': False,\n",
        "                     'num_workers': 1}\n",
        "        dataloader = DataLoader(\n",
        "            CustomDataset(df, self.model_name, max_seq_length=50, pad_to_max_length=True, is_test=True),\n",
        "            **params)\n",
        "        predictions = []\n",
        "        self.model.eval()\n",
        "        with torch.no_grad():\n",
        "          for batch_number, (tokens, labels) in enumerate(dataloader):\n",
        "              tokens = tokens.cuda()\n",
        "\n",
        "              outputs = self.model.forward(tokens)[0]\n",
        "              predicted = argmax(outputs, dim=1)\n",
        "              predictions = predictions + predicted.tolist()\n",
        "        # Pytorch doesn't support using -1 as a label\n",
        "        # Thus, labels are mapped to [0, 1, 2] instead of [-1, 0, 1] on training the model\n",
        "        # They are remapped again to [-1, 0, 1] by subtracting one\n",
        "        return [p-1 for p in predictions]\n",
        "\n",
        "    def predict_prob(self, df, params=None):\n",
        "        '''This function only chooses the expected value for the prediction class.\n",
        "        If the probabilities of labels [-1, 0, 1] were [P-1, P0, P1],\n",
        "        then the predicted class is (-1 * P-1) + 0 * P0 + (1 *P1).\n",
        "        This is used since the evaluation criteria was Least Square Error and not F1 score.\n",
        "        '''\n",
        "        if not params:\n",
        "            params = {'batch_size': 100,\n",
        "                     'shuffle': False,\n",
        "                     'drop_last': False,\n",
        "                     'num_workers': 1}\n",
        "        dataloader = DataLoader(\n",
        "            CustomDataset(df, self.model_name, max_seq_length=50, pad_to_max_length=True, is_test=True),\n",
        "            **params)\n",
        "        predictions = []\n",
        "        self.model.eval()\n",
        "        label_scores = np.array([[-1,0,1]]).T\n",
        "        with torch.no_grad():\n",
        "          for batch_number, (tokens, labels) in enumerate(dataloader):\n",
        "              tokens = tokens.cuda()\n",
        "\n",
        "              outputs = self.model.forward(tokens)[0]\n",
        "              probabilities = softmax(outputs.cpu().detach().numpy(), axis=1)\n",
        "\n",
        "              # Find the most expected value\n",
        "              scores = np.matmul(probabilities, label_scores).T.tolist()\n",
        "              predictions = predictions + scores\n",
        "        return predictions\n",
        "\n",
        "    def save_model(self, directory):\n",
        "        # Model save\n",
        "        torch.save(self.model.state_dict(), str(Path(directory, self.model_name)))\n"
      ],
      "execution_count": 0,
      "outputs": []
    },
    {
      "cell_type": "markdown",
      "metadata": {
        "id": "A9i6qFS1VZNR",
        "colab_type": "text"
      },
      "source": [
        "# Train the model"
      ]
    },
    {
      "cell_type": "code",
      "metadata": {
        "id": "Kx4Bw9oWxuBR",
        "colab_type": "code",
        "colab": {}
      },
      "source": [
        "# This step is required to inform BERT that the model will be used in a three class classification problem\n",
        "labels = [-1, 0, 1]\n",
        "label_map = {i:i for i in labels}\n",
        "num_labels = len(labels)\n",
        "config = AutoConfig.from_pretrained('bert-large-cased',\n",
        "                           num_labels=num_labels,\n",
        "                           id2label=label_map,\n",
        "                           label2id={label: i for i, label in enumerate(labels)})"
      ],
      "execution_count": 0,
      "outputs": []
    },
    {
      "cell_type": "code",
      "metadata": {
        "id": "DnU4wTYeuh_B",
        "colab_type": "code",
        "colab": {
          "base_uri": "https://localhost:8080/",
          "height": 67,
          "referenced_widgets": [
            "cc517be267e64640a0d1a4eb20ac03d2",
            "aa158defb08b45a3a3f86bf6f3bb80fe",
            "f1f67f9851384cb7b6c2e656d36ffb0a",
            "f62e8f653fc4458b86776fc7484a78e6",
            "da556108ab4541ad9bc8cc84da7f27d1",
            "4b32bb1be2a042b38b05742964ce22e2",
            "744425fc7dd349ec819a9c6592ba520f",
            "7d134210561c48b69bcf916e82503e05"
          ]
        },
        "outputId": "84b7827d-0c76-4c21-a0f0-55db20a0b19b"
      },
      "source": [
        "model = BertModel('bert-large-cased', config)"
      ],
      "execution_count": 14,
      "outputs": [
        {
          "output_type": "display_data",
          "data": {
            "application/vnd.jupyter.widget-view+json": {
              "model_id": "cc517be267e64640a0d1a4eb20ac03d2",
              "version_minor": 0,
              "version_major": 2
            },
            "text/plain": [
              "HBox(children=(IntProgress(value=0, description='Downloading', max=1338740706, style=ProgressStyle(description…"
            ]
          },
          "metadata": {
            "tags": []
          }
        },
        {
          "output_type": "stream",
          "text": [
            "\n"
          ],
          "name": "stdout"
        }
      ]
    },
    {
      "cell_type": "code",
      "metadata": {
        "id": "OjSKhHDnul9n",
        "colab_type": "code",
        "outputId": "52a9dd06-c5c6-4924-af75-7cf02110fc22",
        "colab": {
          "base_uri": "https://localhost:8080/",
          "height": 237
        }
      },
      "source": [
        "model.fit(train_df, epochs=4)"
      ],
      "execution_count": 15,
      "outputs": [
        {
          "output_type": "stream",
          "text": [
            "Epoch 0: Batch 0 -> Average loss 0.00861161295324564\n",
            "Epoch 0: Batch 100 -> Average loss 0.8509868383407593\n",
            "Epoch 0: Batch 200 -> Average loss 0.7442072629928589\n",
            "Epoch 1: Batch 0 -> Average loss 0.3312857449054718\n",
            "Epoch 1: Batch 100 -> Average loss 0.6494563221931458\n",
            "Epoch 1: Batch 200 -> Average loss 0.628110945224762\n",
            "Epoch 2: Batch 0 -> Average loss 0.27562034130096436\n",
            "Epoch 2: Batch 100 -> Average loss 0.5344231128692627\n",
            "Epoch 2: Batch 200 -> Average loss 0.5034850239753723\n",
            "Epoch 3: Batch 0 -> Average loss 0.20945148169994354\n",
            "Epoch 3: Batch 100 -> Average loss 0.39582008123397827\n",
            "Epoch 3: Batch 200 -> Average loss 0.37000197172164917\n"
          ],
          "name": "stdout"
        }
      ]
    },
    {
      "cell_type": "markdown",
      "metadata": {
        "id": "2z5Y7UBiVmjT",
        "colab_type": "text"
      },
      "source": [
        "# Evaluate the model"
      ]
    },
    {
      "cell_type": "code",
      "metadata": {
        "id": "764wEinvN0Wb",
        "colab_type": "code",
        "colab": {}
      },
      "source": [
        "def get_score(pr,la):\n",
        "    '''\n",
        "    This function is used to compute the accuracy and the Least Square Error\n",
        "    Inputs:\n",
        "      pr: List of predicted values\n",
        "      la: List of labels [-1, 0, 1]\n",
        "    '''\n",
        "    return sum([p==l for p, l in zip(pr, la)])/len(pr), (sum([(p-l) ** 2 for p, l in zip(pr, la)])/len(pr)) ** 0.5"
      ],
      "execution_count": 0,
      "outputs": []
    },
    {
      "cell_type": "code",
      "metadata": {
        "id": "IRTu8chDa6st",
        "colab_type": "code",
        "outputId": "03dd689c-cd5b-42b5-b4e9-620d9e134264",
        "colab": {
          "base_uri": "https://localhost:8080/",
          "height": 36
        }
      },
      "source": [
        "get_score(model.predict(train_df), train_df['label'])"
      ],
      "execution_count": 17,
      "outputs": [
        {
          "output_type": "execute_result",
          "data": {
            "text/plain": [
              "(0.9250566742232298, 0.35853936101417494)"
            ]
          },
          "metadata": {
            "tags": []
          },
          "execution_count": 17
        }
      ]
    },
    {
      "cell_type": "code",
      "metadata": {
        "id": "lbS8TKGIo0AN",
        "colab_type": "code",
        "outputId": "9c6bbca8-b4cc-4c8e-be70-e9b70c856487",
        "colab": {
          "base_uri": "https://localhost:8080/",
          "height": 36
        }
      },
      "source": [
        "get_score(sum(model.predict_prob(train_df), []), train_df['label'])"
      ],
      "execution_count": 18,
      "outputs": [
        {
          "output_type": "execute_result",
          "data": {
            "text/plain": [
              "(0.0, 0.32422849175833257)"
            ]
          },
          "metadata": {
            "tags": []
          },
          "execution_count": 18
        }
      ]
    },
    {
      "cell_type": "code",
      "metadata": {
        "id": "pfP29cTnaGSf",
        "colab_type": "code",
        "outputId": "17ee0f96-89aa-4b22-fb07-7ddc5701e578",
        "colab": {
          "base_uri": "https://localhost:8080/",
          "height": 36
        }
      },
      "source": [
        "get_score(model.predict(dev_df), dev_df['label'])"
      ],
      "execution_count": 19,
      "outputs": [
        {
          "output_type": "execute_result",
          "data": {
            "text/plain": [
              "(0.7628, 0.6125357132445421)"
            ]
          },
          "metadata": {
            "tags": []
          },
          "execution_count": 19
        }
      ]
    },
    {
      "cell_type": "code",
      "metadata": {
        "id": "J16jE_O0fITd",
        "colab_type": "code",
        "outputId": "fd7bd577-e355-4104-d193-1db97a9f9d24",
        "colab": {
          "base_uri": "https://localhost:8080/",
          "height": 36
        }
      },
      "source": [
        "get_score(sum(model.predict_prob(dev_df), []), dev_df['label'])"
      ],
      "execution_count": 20,
      "outputs": [
        {
          "output_type": "execute_result",
          "data": {
            "text/plain": [
              "(0.0, 0.5391030964548473)"
            ]
          },
          "metadata": {
            "tags": []
          },
          "execution_count": 20
        }
      ]
    },
    {
      "cell_type": "markdown",
      "metadata": {
        "id": "-7wK6jbWWCPH",
        "colab_type": "text"
      },
      "source": [
        "# Create the submission csv file"
      ]
    },
    {
      "cell_type": "code",
      "metadata": {
        "id": "AGAc_8iooPX8",
        "colab_type": "code",
        "colab": {}
      },
      "source": [
        "# This step is used to handle a bug in the test dataset\n",
        "sample_submission = pd.read_csv('data/SampleSubmission.csv')\n",
        "submission_df = sample_submission.merge(test_df, how='left', on='tweet_id')\n",
        "submission_df['safe_text'].fillna('', inplace=True)"
      ],
      "execution_count": 0,
      "outputs": []
    },
    {
      "cell_type": "code",
      "metadata": {
        "id": "-aljTfyRuUyf",
        "colab_type": "code",
        "colab": {}
      },
      "source": [
        "submission_pred = sum(model.predict_prob(submission_df), [])"
      ],
      "execution_count": 0,
      "outputs": []
    },
    {
      "cell_type": "code",
      "metadata": {
        "id": "pDxKKxWhuY7c",
        "colab_type": "code",
        "outputId": "5fab7ef1-3072-4e21-d705-8c326657212e",
        "colab": {
          "base_uri": "https://localhost:8080/",
          "height": 36
        }
      },
      "source": [
        "len(submission_pred), submission_df.shape"
      ],
      "execution_count": 23,
      "outputs": [
        {
          "output_type": "execute_result",
          "data": {
            "text/plain": [
              "(5177, (5177, 3))"
            ]
          },
          "metadata": {
            "tags": []
          },
          "execution_count": 23
        }
      ]
    },
    {
      "cell_type": "code",
      "metadata": {
        "id": "v4xmfKB2oj54",
        "colab_type": "code",
        "colab": {}
      },
      "source": [
        "submission_df['target'] = submission_pred"
      ],
      "execution_count": 0,
      "outputs": []
    },
    {
      "cell_type": "code",
      "metadata": {
        "id": "3Gm6BlOWouJ9",
        "colab_type": "code",
        "colab": {}
      },
      "source": [
        "submission_df[['tweet_id', 'target']].to_csv('submissions/submission.csv', index=False)"
      ],
      "execution_count": 0,
      "outputs": []
    },
    {
      "cell_type": "markdown",
      "metadata": {
        "id": "hBK2XsHPWUT0",
        "colab_type": "text"
      },
      "source": [
        "# Save the model weights\n",
        "I generally tend to save the model's weights since I sometimes struggle with reproducing the results.\n",
        "\n",
        "It's also useful in case of blending the predictions of multiple models (Avoid re-training the models)."
      ]
    },
    {
      "cell_type": "code",
      "metadata": {
        "id": "G2lihNXssgKg",
        "colab_type": "code",
        "colab": {}
      },
      "source": [
        "from pathlib import Path\n",
        "torch.save(model.model.state_dict(), str(Path('models', model.model_name + '-0')))"
      ],
      "execution_count": 0,
      "outputs": []
    }
  ]
}