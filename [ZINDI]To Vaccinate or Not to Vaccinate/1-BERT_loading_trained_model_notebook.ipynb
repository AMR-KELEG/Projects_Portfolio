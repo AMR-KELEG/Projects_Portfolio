{
  "nbformat": 4,
  "nbformat_minor": 0,
  "metadata": {
    "colab": {
      "name": "models-stack.ipynb",
      "provenance": [],
      "collapsed_sections": []
    },
    "kernelspec": {
      "name": "python3",
      "display_name": "Python 3"
    },
    "accelerator": "GPU",
    "widgets": {
      "application/vnd.jupyter.widget-state+json": {
        "acf3024cadb244f391df7fc0b6da2d74": {
          "model_module": "@jupyter-widgets/controls",
          "model_name": "HBoxModel",
          "state": {
            "_view_name": "HBoxView",
            "_dom_classes": [],
            "_model_name": "HBoxModel",
            "_view_module": "@jupyter-widgets/controls",
            "_model_module_version": "1.5.0",
            "_view_count": null,
            "_view_module_version": "1.5.0",
            "box_style": "",
            "layout": "IPY_MODEL_887eab671e1147a99ade02de7be7ca55",
            "_model_module": "@jupyter-widgets/controls",
            "children": [
              "IPY_MODEL_a7c29413207b4dcabd585acc7d6e0ae3",
              "IPY_MODEL_c769404e1fba46f48b21ad8a6961a971"
            ]
          }
        },
        "887eab671e1147a99ade02de7be7ca55": {
          "model_module": "@jupyter-widgets/base",
          "model_name": "LayoutModel",
          "state": {
            "_view_name": "LayoutView",
            "grid_template_rows": null,
            "right": null,
            "justify_content": null,
            "_view_module": "@jupyter-widgets/base",
            "overflow": null,
            "_model_module_version": "1.2.0",
            "_view_count": null,
            "flex_flow": null,
            "width": null,
            "min_width": null,
            "border": null,
            "align_items": null,
            "bottom": null,
            "_model_module": "@jupyter-widgets/base",
            "top": null,
            "grid_column": null,
            "overflow_y": null,
            "overflow_x": null,
            "grid_auto_flow": null,
            "grid_area": null,
            "grid_template_columns": null,
            "flex": null,
            "_model_name": "LayoutModel",
            "justify_items": null,
            "grid_row": null,
            "max_height": null,
            "align_content": null,
            "visibility": null,
            "align_self": null,
            "height": null,
            "min_height": null,
            "padding": null,
            "grid_auto_rows": null,
            "grid_gap": null,
            "max_width": null,
            "order": null,
            "_view_module_version": "1.2.0",
            "grid_template_areas": null,
            "object_position": null,
            "object_fit": null,
            "grid_auto_columns": null,
            "margin": null,
            "display": null,
            "left": null
          }
        },
        "a7c29413207b4dcabd585acc7d6e0ae3": {
          "model_module": "@jupyter-widgets/controls",
          "model_name": "IntProgressModel",
          "state": {
            "_view_name": "ProgressView",
            "style": "IPY_MODEL_9c86312e67fe40f3af3f6c85844bf0dd",
            "_dom_classes": [],
            "description": "Downloading: 100%",
            "_model_name": "IntProgressModel",
            "bar_style": "success",
            "max": 625,
            "_view_module": "@jupyter-widgets/controls",
            "_model_module_version": "1.5.0",
            "value": 625,
            "_view_count": null,
            "_view_module_version": "1.5.0",
            "orientation": "horizontal",
            "min": 0,
            "description_tooltip": null,
            "_model_module": "@jupyter-widgets/controls",
            "layout": "IPY_MODEL_cff7c3e33b3a4376bf860c666db998e9"
          }
        },
        "c769404e1fba46f48b21ad8a6961a971": {
          "model_module": "@jupyter-widgets/controls",
          "model_name": "HTMLModel",
          "state": {
            "_view_name": "HTMLView",
            "style": "IPY_MODEL_c17ff4ff672548af8332a2806580cd4c",
            "_dom_classes": [],
            "description": "",
            "_model_name": "HTMLModel",
            "placeholder": "​",
            "_view_module": "@jupyter-widgets/controls",
            "_model_module_version": "1.5.0",
            "value": " 625/625 [00:00&lt;00:00, 961B/s]",
            "_view_count": null,
            "_view_module_version": "1.5.0",
            "description_tooltip": null,
            "_model_module": "@jupyter-widgets/controls",
            "layout": "IPY_MODEL_95f375fd2374452f9d64707973c9d406"
          }
        },
        "9c86312e67fe40f3af3f6c85844bf0dd": {
          "model_module": "@jupyter-widgets/controls",
          "model_name": "ProgressStyleModel",
          "state": {
            "_view_name": "StyleView",
            "_model_name": "ProgressStyleModel",
            "description_width": "initial",
            "_view_module": "@jupyter-widgets/base",
            "_model_module_version": "1.5.0",
            "_view_count": null,
            "_view_module_version": "1.2.0",
            "bar_color": null,
            "_model_module": "@jupyter-widgets/controls"
          }
        },
        "cff7c3e33b3a4376bf860c666db998e9": {
          "model_module": "@jupyter-widgets/base",
          "model_name": "LayoutModel",
          "state": {
            "_view_name": "LayoutView",
            "grid_template_rows": null,
            "right": null,
            "justify_content": null,
            "_view_module": "@jupyter-widgets/base",
            "overflow": null,
            "_model_module_version": "1.2.0",
            "_view_count": null,
            "flex_flow": null,
            "width": null,
            "min_width": null,
            "border": null,
            "align_items": null,
            "bottom": null,
            "_model_module": "@jupyter-widgets/base",
            "top": null,
            "grid_column": null,
            "overflow_y": null,
            "overflow_x": null,
            "grid_auto_flow": null,
            "grid_area": null,
            "grid_template_columns": null,
            "flex": null,
            "_model_name": "LayoutModel",
            "justify_items": null,
            "grid_row": null,
            "max_height": null,
            "align_content": null,
            "visibility": null,
            "align_self": null,
            "height": null,
            "min_height": null,
            "padding": null,
            "grid_auto_rows": null,
            "grid_gap": null,
            "max_width": null,
            "order": null,
            "_view_module_version": "1.2.0",
            "grid_template_areas": null,
            "object_position": null,
            "object_fit": null,
            "grid_auto_columns": null,
            "margin": null,
            "display": null,
            "left": null
          }
        },
        "c17ff4ff672548af8332a2806580cd4c": {
          "model_module": "@jupyter-widgets/controls",
          "model_name": "DescriptionStyleModel",
          "state": {
            "_view_name": "StyleView",
            "_model_name": "DescriptionStyleModel",
            "description_width": "",
            "_view_module": "@jupyter-widgets/base",
            "_model_module_version": "1.5.0",
            "_view_count": null,
            "_view_module_version": "1.2.0",
            "_model_module": "@jupyter-widgets/controls"
          }
        },
        "95f375fd2374452f9d64707973c9d406": {
          "model_module": "@jupyter-widgets/base",
          "model_name": "LayoutModel",
          "state": {
            "_view_name": "LayoutView",
            "grid_template_rows": null,
            "right": null,
            "justify_content": null,
            "_view_module": "@jupyter-widgets/base",
            "overflow": null,
            "_model_module_version": "1.2.0",
            "_view_count": null,
            "flex_flow": null,
            "width": null,
            "min_width": null,
            "border": null,
            "align_items": null,
            "bottom": null,
            "_model_module": "@jupyter-widgets/base",
            "top": null,
            "grid_column": null,
            "overflow_y": null,
            "overflow_x": null,
            "grid_auto_flow": null,
            "grid_area": null,
            "grid_template_columns": null,
            "flex": null,
            "_model_name": "LayoutModel",
            "justify_items": null,
            "grid_row": null,
            "max_height": null,
            "align_content": null,
            "visibility": null,
            "align_self": null,
            "height": null,
            "min_height": null,
            "padding": null,
            "grid_auto_rows": null,
            "grid_gap": null,
            "max_width": null,
            "order": null,
            "_view_module_version": "1.2.0",
            "grid_template_areas": null,
            "object_position": null,
            "object_fit": null,
            "grid_auto_columns": null,
            "margin": null,
            "display": null,
            "left": null
          }
        },
        "28a372f269a444b799e643e0a6aa6ebd": {
          "model_module": "@jupyter-widgets/controls",
          "model_name": "HBoxModel",
          "state": {
            "_view_name": "HBoxView",
            "_dom_classes": [],
            "_model_name": "HBoxModel",
            "_view_module": "@jupyter-widgets/controls",
            "_model_module_version": "1.5.0",
            "_view_count": null,
            "_view_module_version": "1.5.0",
            "box_style": "",
            "layout": "IPY_MODEL_5a76c7c6f7314792840e75951fad79a3",
            "_model_module": "@jupyter-widgets/controls",
            "children": [
              "IPY_MODEL_ecd9621d4ba347eda904b653d7fe8971",
              "IPY_MODEL_07123fe93ee3451fb8e839cb25a26b64"
            ]
          }
        },
        "5a76c7c6f7314792840e75951fad79a3": {
          "model_module": "@jupyter-widgets/base",
          "model_name": "LayoutModel",
          "state": {
            "_view_name": "LayoutView",
            "grid_template_rows": null,
            "right": null,
            "justify_content": null,
            "_view_module": "@jupyter-widgets/base",
            "overflow": null,
            "_model_module_version": "1.2.0",
            "_view_count": null,
            "flex_flow": null,
            "width": null,
            "min_width": null,
            "border": null,
            "align_items": null,
            "bottom": null,
            "_model_module": "@jupyter-widgets/base",
            "top": null,
            "grid_column": null,
            "overflow_y": null,
            "overflow_x": null,
            "grid_auto_flow": null,
            "grid_area": null,
            "grid_template_columns": null,
            "flex": null,
            "_model_name": "LayoutModel",
            "justify_items": null,
            "grid_row": null,
            "max_height": null,
            "align_content": null,
            "visibility": null,
            "align_self": null,
            "height": null,
            "min_height": null,
            "padding": null,
            "grid_auto_rows": null,
            "grid_gap": null,
            "max_width": null,
            "order": null,
            "_view_module_version": "1.2.0",
            "grid_template_areas": null,
            "object_position": null,
            "object_fit": null,
            "grid_auto_columns": null,
            "margin": null,
            "display": null,
            "left": null
          }
        },
        "ecd9621d4ba347eda904b653d7fe8971": {
          "model_module": "@jupyter-widgets/controls",
          "model_name": "IntProgressModel",
          "state": {
            "_view_name": "ProgressView",
            "style": "IPY_MODEL_389965f08c7f4c0cb594cfbfb684c499",
            "_dom_classes": [],
            "description": "Downloading: 100%",
            "_model_name": "IntProgressModel",
            "bar_style": "success",
            "max": 1338740706,
            "_view_module": "@jupyter-widgets/controls",
            "_model_module_version": "1.5.0",
            "value": 1338740706,
            "_view_count": null,
            "_view_module_version": "1.5.0",
            "orientation": "horizontal",
            "min": 0,
            "description_tooltip": null,
            "_model_module": "@jupyter-widgets/controls",
            "layout": "IPY_MODEL_ad84e076dbe14c2ab18e92960f9a931f"
          }
        },
        "07123fe93ee3451fb8e839cb25a26b64": {
          "model_module": "@jupyter-widgets/controls",
          "model_name": "HTMLModel",
          "state": {
            "_view_name": "HTMLView",
            "style": "IPY_MODEL_37fa7599b50b4e47bb43dc91bc50165d",
            "_dom_classes": [],
            "description": "",
            "_model_name": "HTMLModel",
            "placeholder": "​",
            "_view_module": "@jupyter-widgets/controls",
            "_model_module_version": "1.5.0",
            "value": " 1.34G/1.34G [00:28&lt;00:00, 46.5MB/s]",
            "_view_count": null,
            "_view_module_version": "1.5.0",
            "description_tooltip": null,
            "_model_module": "@jupyter-widgets/controls",
            "layout": "IPY_MODEL_d20fdf9db16a4c38b3741f9ddf7bdcfb"
          }
        },
        "389965f08c7f4c0cb594cfbfb684c499": {
          "model_module": "@jupyter-widgets/controls",
          "model_name": "ProgressStyleModel",
          "state": {
            "_view_name": "StyleView",
            "_model_name": "ProgressStyleModel",
            "description_width": "initial",
            "_view_module": "@jupyter-widgets/base",
            "_model_module_version": "1.5.0",
            "_view_count": null,
            "_view_module_version": "1.2.0",
            "bar_color": null,
            "_model_module": "@jupyter-widgets/controls"
          }
        },
        "ad84e076dbe14c2ab18e92960f9a931f": {
          "model_module": "@jupyter-widgets/base",
          "model_name": "LayoutModel",
          "state": {
            "_view_name": "LayoutView",
            "grid_template_rows": null,
            "right": null,
            "justify_content": null,
            "_view_module": "@jupyter-widgets/base",
            "overflow": null,
            "_model_module_version": "1.2.0",
            "_view_count": null,
            "flex_flow": null,
            "width": null,
            "min_width": null,
            "border": null,
            "align_items": null,
            "bottom": null,
            "_model_module": "@jupyter-widgets/base",
            "top": null,
            "grid_column": null,
            "overflow_y": null,
            "overflow_x": null,
            "grid_auto_flow": null,
            "grid_area": null,
            "grid_template_columns": null,
            "flex": null,
            "_model_name": "LayoutModel",
            "justify_items": null,
            "grid_row": null,
            "max_height": null,
            "align_content": null,
            "visibility": null,
            "align_self": null,
            "height": null,
            "min_height": null,
            "padding": null,
            "grid_auto_rows": null,
            "grid_gap": null,
            "max_width": null,
            "order": null,
            "_view_module_version": "1.2.0",
            "grid_template_areas": null,
            "object_position": null,
            "object_fit": null,
            "grid_auto_columns": null,
            "margin": null,
            "display": null,
            "left": null
          }
        },
        "37fa7599b50b4e47bb43dc91bc50165d": {
          "model_module": "@jupyter-widgets/controls",
          "model_name": "DescriptionStyleModel",
          "state": {
            "_view_name": "StyleView",
            "_model_name": "DescriptionStyleModel",
            "description_width": "",
            "_view_module": "@jupyter-widgets/base",
            "_model_module_version": "1.5.0",
            "_view_count": null,
            "_view_module_version": "1.2.0",
            "_model_module": "@jupyter-widgets/controls"
          }
        },
        "d20fdf9db16a4c38b3741f9ddf7bdcfb": {
          "model_module": "@jupyter-widgets/base",
          "model_name": "LayoutModel",
          "state": {
            "_view_name": "LayoutView",
            "grid_template_rows": null,
            "right": null,
            "justify_content": null,
            "_view_module": "@jupyter-widgets/base",
            "overflow": null,
            "_model_module_version": "1.2.0",
            "_view_count": null,
            "flex_flow": null,
            "width": null,
            "min_width": null,
            "border": null,
            "align_items": null,
            "bottom": null,
            "_model_module": "@jupyter-widgets/base",
            "top": null,
            "grid_column": null,
            "overflow_y": null,
            "overflow_x": null,
            "grid_auto_flow": null,
            "grid_area": null,
            "grid_template_columns": null,
            "flex": null,
            "_model_name": "LayoutModel",
            "justify_items": null,
            "grid_row": null,
            "max_height": null,
            "align_content": null,
            "visibility": null,
            "align_self": null,
            "height": null,
            "min_height": null,
            "padding": null,
            "grid_auto_rows": null,
            "grid_gap": null,
            "max_width": null,
            "order": null,
            "_view_module_version": "1.2.0",
            "grid_template_areas": null,
            "object_position": null,
            "object_fit": null,
            "grid_auto_columns": null,
            "margin": null,
            "display": null,
            "left": null
          }
        }
      }
    }
  },
  "cells": [
    {
      "cell_type": "markdown",
      "metadata": {
        "id": "Q8NUZ6XljCuc",
        "colab_type": "text"
      },
      "source": [
        "# Acquire the data\n",
        "- This notebook is supposed to be run using Google Colab\n",
        "- The notebook will be accessing the datasets from Google Drive\n",
        "- To get started:\n",
        "  - Download the data from https://zindi.africa/hackathons/to-vaccinate-or-not-to-vaccinate-its-not-a-question/data\n",
        "  - Create a folder in which you would like to add your data e.g: `vaccinate`\n",
        "  - Upload the data to a sub-folder called `data` Acquisatione.g: `vaccinate/data`\n",
        "  - Create two sub-folders called `models` and `submissions` e.g: `vaccinate/models` and `vaccinate/submissions`\n",
        "  - Add the pre-trained model to the `models` directory or fine-tune the model and save it to the `models` directory\n",
        "- Now, you are ready to run the notebook"
      ]
    },
    {
      "cell_type": "code",
      "metadata": {
        "id": "ZPkdNe5It-h0",
        "colab_type": "code",
        "outputId": "c6647699-d14b-4e15-d7d0-63b6178d2181",
        "colab": {
          "base_uri": "https://localhost:8080/",
          "height": 129
        }
      },
      "source": [
        "from google.colab import drive\n",
        "drive.mount('/drive/')"
      ],
      "execution_count": 1,
      "outputs": [
        {
          "output_type": "stream",
          "text": [
            "Go to this URL in a browser: https://accounts.google.com/o/oauth2/auth?client_id=947318989803-6bn6qk8qdgf4n4g3pfee6491hc0brc4i.apps.googleusercontent.com&redirect_uri=urn%3aietf%3awg%3aoauth%3a2.0%3aoob&response_type=code&scope=email%20https%3a%2f%2fwww.googleapis.com%2fauth%2fdocs.test%20https%3a%2f%2fwww.googleapis.com%2fauth%2fdrive%20https%3a%2f%2fwww.googleapis.com%2fauth%2fdrive.photos.readonly%20https%3a%2f%2fwww.googleapis.com%2fauth%2fpeopleapi.readonly\n",
            "\n",
            "Enter your authorization code:\n",
            "··········\n",
            "Mounted at /drive/\n"
          ],
          "name": "stdout"
        }
      ]
    },
    {
      "cell_type": "code",
      "metadata": {
        "id": "PEYnTdvhutnb",
        "colab_type": "code",
        "outputId": "b55cbbc2-fa5a-4089-d50d-fb7d24c90143",
        "colab": {
          "base_uri": "https://localhost:8080/",
          "height": 36
        }
      },
      "source": [
        "% cd \"/drive/My Drive/vaccinate\""
      ],
      "execution_count": 2,
      "outputs": [
        {
          "output_type": "stream",
          "text": [
            "/drive/My Drive/vaccinate\n"
          ],
          "name": "stdout"
        }
      ]
    },
    {
      "cell_type": "code",
      "metadata": {
        "id": "FqMT0QDXuxMM",
        "colab_type": "code",
        "outputId": "3dab92da-516a-4d7c-f9b2-4ae7f8045908",
        "colab": {
          "base_uri": "https://localhost:8080/",
          "height": 732
        }
      },
      "source": [
        "! pip install transformers==2.8.0"
      ],
      "execution_count": 3,
      "outputs": [
        {
          "output_type": "stream",
          "text": [
            "Collecting transformers==2.8.0\n",
            "\u001b[?25l  Downloading https://files.pythonhosted.org/packages/a3/78/92cedda05552398352ed9784908b834ee32a0bd071a9b32de287327370b7/transformers-2.8.0-py3-none-any.whl (563kB)\n",
            "\r\u001b[K     |▋                               | 10kB 23.0MB/s eta 0:00:01\r\u001b[K     |█▏                              | 20kB 30.1MB/s eta 0:00:01\r\u001b[K     |█▊                              | 30kB 27.6MB/s eta 0:00:01\r\u001b[K     |██▎                             | 40kB 14.0MB/s eta 0:00:01\r\u001b[K     |███                             | 51kB 11.8MB/s eta 0:00:01\r\u001b[K     |███▌                            | 61kB 11.9MB/s eta 0:00:01\r\u001b[K     |████                            | 71kB 11.2MB/s eta 0:00:01\r\u001b[K     |████▋                           | 81kB 11.6MB/s eta 0:00:01\r\u001b[K     |█████▎                          | 92kB 11.6MB/s eta 0:00:01\r\u001b[K     |█████▉                          | 102kB 11.7MB/s eta 0:00:01\r\u001b[K     |██████▍                         | 112kB 11.7MB/s eta 0:00:01\r\u001b[K     |███████                         | 122kB 11.7MB/s eta 0:00:01\r\u001b[K     |███████▋                        | 133kB 11.7MB/s eta 0:00:01\r\u001b[K     |████████▏                       | 143kB 11.7MB/s eta 0:00:01\r\u001b[K     |████████▊                       | 153kB 11.7MB/s eta 0:00:01\r\u001b[K     |█████████▎                      | 163kB 11.7MB/s eta 0:00:01\r\u001b[K     |█████████▉                      | 174kB 11.7MB/s eta 0:00:01\r\u001b[K     |██████████▌                     | 184kB 11.7MB/s eta 0:00:01\r\u001b[K     |███████████                     | 194kB 11.7MB/s eta 0:00:01\r\u001b[K     |███████████▋                    | 204kB 11.7MB/s eta 0:00:01\r\u001b[K     |████████████▏                   | 215kB 11.7MB/s eta 0:00:01\r\u001b[K     |████████████▉                   | 225kB 11.7MB/s eta 0:00:01\r\u001b[K     |█████████████▍                  | 235kB 11.7MB/s eta 0:00:01\r\u001b[K     |██████████████                  | 245kB 11.7MB/s eta 0:00:01\r\u001b[K     |██████████████▌                 | 256kB 11.7MB/s eta 0:00:01\r\u001b[K     |███████████████▏                | 266kB 11.7MB/s eta 0:00:01\r\u001b[K     |███████████████▊                | 276kB 11.7MB/s eta 0:00:01\r\u001b[K     |████████████████▎               | 286kB 11.7MB/s eta 0:00:01\r\u001b[K     |████████████████▉               | 296kB 11.7MB/s eta 0:00:01\r\u001b[K     |█████████████████▍              | 307kB 11.7MB/s eta 0:00:01\r\u001b[K     |██████████████████              | 317kB 11.7MB/s eta 0:00:01\r\u001b[K     |██████████████████▋             | 327kB 11.7MB/s eta 0:00:01\r\u001b[K     |███████████████████▏            | 337kB 11.7MB/s eta 0:00:01\r\u001b[K     |███████████████████▊            | 348kB 11.7MB/s eta 0:00:01\r\u001b[K     |████████████████████▍           | 358kB 11.7MB/s eta 0:00:01\r\u001b[K     |█████████████████████           | 368kB 11.7MB/s eta 0:00:01\r\u001b[K     |█████████████████████▌          | 378kB 11.7MB/s eta 0:00:01\r\u001b[K     |██████████████████████          | 389kB 11.7MB/s eta 0:00:01\r\u001b[K     |██████████████████████▊         | 399kB 11.7MB/s eta 0:00:01\r\u001b[K     |███████████████████████▎        | 409kB 11.7MB/s eta 0:00:01\r\u001b[K     |███████████████████████▉        | 419kB 11.7MB/s eta 0:00:01\r\u001b[K     |████████████████████████▍       | 430kB 11.7MB/s eta 0:00:01\r\u001b[K     |█████████████████████████       | 440kB 11.7MB/s eta 0:00:01\r\u001b[K     |█████████████████████████▋      | 450kB 11.7MB/s eta 0:00:01\r\u001b[K     |██████████████████████████▏     | 460kB 11.7MB/s eta 0:00:01\r\u001b[K     |██████████████████████████▊     | 471kB 11.7MB/s eta 0:00:01\r\u001b[K     |███████████████████████████▎    | 481kB 11.7MB/s eta 0:00:01\r\u001b[K     |████████████████████████████    | 491kB 11.7MB/s eta 0:00:01\r\u001b[K     |████████████████████████████▌   | 501kB 11.7MB/s eta 0:00:01\r\u001b[K     |█████████████████████████████   | 512kB 11.7MB/s eta 0:00:01\r\u001b[K     |█████████████████████████████▋  | 522kB 11.7MB/s eta 0:00:01\r\u001b[K     |██████████████████████████████▎ | 532kB 11.7MB/s eta 0:00:01\r\u001b[K     |██████████████████████████████▉ | 542kB 11.7MB/s eta 0:00:01\r\u001b[K     |███████████████████████████████▍| 552kB 11.7MB/s eta 0:00:01\r\u001b[K     |████████████████████████████████| 563kB 11.7MB/s eta 0:00:01\r\u001b[K     |████████████████████████████████| 573kB 11.7MB/s \n",
            "\u001b[?25hRequirement already satisfied: numpy in /usr/local/lib/python3.6/dist-packages (from transformers==2.8.0) (1.18.3)\n",
            "Requirement already satisfied: boto3 in /usr/local/lib/python3.6/dist-packages (from transformers==2.8.0) (1.12.47)\n",
            "Requirement already satisfied: filelock in /usr/local/lib/python3.6/dist-packages (from transformers==2.8.0) (3.0.12)\n",
            "Requirement already satisfied: requests in /usr/local/lib/python3.6/dist-packages (from transformers==2.8.0) (2.23.0)\n",
            "Requirement already satisfied: tqdm>=4.27 in /usr/local/lib/python3.6/dist-packages (from transformers==2.8.0) (4.38.0)\n",
            "Requirement already satisfied: dataclasses; python_version < \"3.7\" in /usr/local/lib/python3.6/dist-packages (from transformers==2.8.0) (0.7)\n",
            "Collecting sacremoses\n",
            "\u001b[?25l  Downloading https://files.pythonhosted.org/packages/99/50/93509f906a40bffd7d175f97fd75ea328ad9bd91f48f59c4bd084c94a25e/sacremoses-0.0.41.tar.gz (883kB)\n",
            "\r\u001b[K     |▍                               | 10kB 22.8MB/s eta 0:00:01\r\u001b[K     |▊                               | 20kB 31.4MB/s eta 0:00:01\r\u001b[K     |█▏                              | 30kB 36.7MB/s eta 0:00:01\r\u001b[K     |█▌                              | 40kB 40.8MB/s eta 0:00:01\r\u001b[K     |█▉                              | 51kB 41.7MB/s eta 0:00:01\r\u001b[K     |██▎                             | 61kB 44.7MB/s eta 0:00:01\r\u001b[K     |██▋                             | 71kB 44.8MB/s eta 0:00:01\r\u001b[K     |███                             | 81kB 45.3MB/s eta 0:00:01\r\u001b[K     |███▍                            | 92kB 46.8MB/s eta 0:00:01\r\u001b[K     |███▊                            | 102kB 47.3MB/s eta 0:00:01\r\u001b[K     |████                            | 112kB 47.3MB/s eta 0:00:01\r\u001b[K     |████▌                           | 122kB 47.3MB/s eta 0:00:01\r\u001b[K     |████▉                           | 133kB 47.3MB/s eta 0:00:01\r\u001b[K     |█████▏                          | 143kB 47.3MB/s eta 0:00:01\r\u001b[K     |█████▋                          | 153kB 47.3MB/s eta 0:00:01\r\u001b[K     |██████                          | 163kB 47.3MB/s eta 0:00:01\r\u001b[K     |██████▎                         | 174kB 47.3MB/s eta 0:00:01\r\u001b[K     |██████▊                         | 184kB 47.3MB/s eta 0:00:01\r\u001b[K     |███████                         | 194kB 47.3MB/s eta 0:00:01\r\u001b[K     |███████▍                        | 204kB 47.3MB/s eta 0:00:01\r\u001b[K     |███████▉                        | 215kB 47.3MB/s eta 0:00:01\r\u001b[K     |████████▏                       | 225kB 47.3MB/s eta 0:00:01\r\u001b[K     |████████▌                       | 235kB 47.3MB/s eta 0:00:01\r\u001b[K     |█████████                       | 245kB 47.3MB/s eta 0:00:01\r\u001b[K     |█████████▎                      | 256kB 47.3MB/s eta 0:00:01\r\u001b[K     |█████████▋                      | 266kB 47.3MB/s eta 0:00:01\r\u001b[K     |██████████                      | 276kB 47.3MB/s eta 0:00:01\r\u001b[K     |██████████▍                     | 286kB 47.3MB/s eta 0:00:01\r\u001b[K     |██████████▊                     | 296kB 47.3MB/s eta 0:00:01\r\u001b[K     |███████████▏                    | 307kB 47.3MB/s eta 0:00:01\r\u001b[K     |███████████▌                    | 317kB 47.3MB/s eta 0:00:01\r\u001b[K     |███████████▉                    | 327kB 47.3MB/s eta 0:00:01\r\u001b[K     |████████████▎                   | 337kB 47.3MB/s eta 0:00:01\r\u001b[K     |████████████▋                   | 348kB 47.3MB/s eta 0:00:01\r\u001b[K     |█████████████                   | 358kB 47.3MB/s eta 0:00:01\r\u001b[K     |█████████████▍                  | 368kB 47.3MB/s eta 0:00:01\r\u001b[K     |█████████████▊                  | 378kB 47.3MB/s eta 0:00:01\r\u001b[K     |██████████████                  | 389kB 47.3MB/s eta 0:00:01\r\u001b[K     |██████████████▌                 | 399kB 47.3MB/s eta 0:00:01\r\u001b[K     |██████████████▉                 | 409kB 47.3MB/s eta 0:00:01\r\u001b[K     |███████████████▏                | 419kB 47.3MB/s eta 0:00:01\r\u001b[K     |███████████████▋                | 430kB 47.3MB/s eta 0:00:01\r\u001b[K     |████████████████                | 440kB 47.3MB/s eta 0:00:01\r\u001b[K     |████████████████▎               | 450kB 47.3MB/s eta 0:00:01\r\u001b[K     |████████████████▊               | 460kB 47.3MB/s eta 0:00:01\r\u001b[K     |█████████████████               | 471kB 47.3MB/s eta 0:00:01\r\u001b[K     |█████████████████▍              | 481kB 47.3MB/s eta 0:00:01\r\u001b[K     |█████████████████▉              | 491kB 47.3MB/s eta 0:00:01\r\u001b[K     |██████████████████▏             | 501kB 47.3MB/s eta 0:00:01\r\u001b[K     |██████████████████▌             | 512kB 47.3MB/s eta 0:00:01\r\u001b[K     |███████████████████             | 522kB 47.3MB/s eta 0:00:01\r\u001b[K     |███████████████████▎            | 532kB 47.3MB/s eta 0:00:01\r\u001b[K     |███████████████████▋            | 542kB 47.3MB/s eta 0:00:01\r\u001b[K     |████████████████████            | 552kB 47.3MB/s eta 0:00:01\r\u001b[K     |████████████████████▍           | 563kB 47.3MB/s eta 0:00:01\r\u001b[K     |████████████████████▊           | 573kB 47.3MB/s eta 0:00:01\r\u001b[K     |█████████████████████▏          | 583kB 47.3MB/s eta 0:00:01\r\u001b[K     |█████████████████████▌          | 593kB 47.3MB/s eta 0:00:01\r\u001b[K     |█████████████████████▉          | 604kB 47.3MB/s eta 0:00:01\r\u001b[K     |██████████████████████▎         | 614kB 47.3MB/s eta 0:00:01\r\u001b[K     |██████████████████████▋         | 624kB 47.3MB/s eta 0:00:01\r\u001b[K     |███████████████████████         | 634kB 47.3MB/s eta 0:00:01\r\u001b[K     |███████████████████████▍        | 645kB 47.3MB/s eta 0:00:01\r\u001b[K     |███████████████████████▊        | 655kB 47.3MB/s eta 0:00:01\r\u001b[K     |████████████████████████        | 665kB 47.3MB/s eta 0:00:01\r\u001b[K     |████████████████████████▌       | 675kB 47.3MB/s eta 0:00:01\r\u001b[K     |████████████████████████▉       | 686kB 47.3MB/s eta 0:00:01\r\u001b[K     |█████████████████████████▏      | 696kB 47.3MB/s eta 0:00:01\r\u001b[K     |█████████████████████████▋      | 706kB 47.3MB/s eta 0:00:01\r\u001b[K     |██████████████████████████      | 716kB 47.3MB/s eta 0:00:01\r\u001b[K     |██████████████████████████▎     | 727kB 47.3MB/s eta 0:00:01\r\u001b[K     |██████████████████████████▊     | 737kB 47.3MB/s eta 0:00:01\r\u001b[K     |███████████████████████████     | 747kB 47.3MB/s eta 0:00:01\r\u001b[K     |███████████████████████████▌    | 757kB 47.3MB/s eta 0:00:01\r\u001b[K     |███████████████████████████▉    | 768kB 47.3MB/s eta 0:00:01\r\u001b[K     |████████████████████████████▏   | 778kB 47.3MB/s eta 0:00:01\r\u001b[K     |████████████████████████████▋   | 788kB 47.3MB/s eta 0:00:01\r\u001b[K     |█████████████████████████████   | 798kB 47.3MB/s eta 0:00:01\r\u001b[K     |█████████████████████████████▎  | 808kB 47.3MB/s eta 0:00:01\r\u001b[K     |█████████████████████████████▊  | 819kB 47.3MB/s eta 0:00:01\r\u001b[K     |██████████████████████████████  | 829kB 47.3MB/s eta 0:00:01\r\u001b[K     |██████████████████████████████▍ | 839kB 47.3MB/s eta 0:00:01\r\u001b[K     |██████████████████████████████▉ | 849kB 47.3MB/s eta 0:00:01\r\u001b[K     |███████████████████████████████▏| 860kB 47.3MB/s eta 0:00:01\r\u001b[K     |███████████████████████████████▌| 870kB 47.3MB/s eta 0:00:01\r\u001b[K     |████████████████████████████████| 880kB 47.3MB/s eta 0:00:01\r\u001b[K     |████████████████████████████████| 890kB 47.3MB/s \n",
            "\u001b[?25hRequirement already satisfied: regex!=2019.12.17 in /usr/local/lib/python3.6/dist-packages (from transformers==2.8.0) (2019.12.20)\n",
            "Collecting tokenizers==0.5.2\n",
            "\u001b[?25l  Downloading https://files.pythonhosted.org/packages/d1/3f/73c881ea4723e43c1e9acf317cf407fab3a278daab3a69c98dcac511c04f/tokenizers-0.5.2-cp36-cp36m-manylinux1_x86_64.whl (3.7MB)\n",
            "\u001b[K     |████████████████████████████████| 3.7MB 44.4MB/s \n",
            "\u001b[?25hCollecting sentencepiece\n",
            "\u001b[?25l  Downloading https://files.pythonhosted.org/packages/98/2c/8df20f3ac6c22ac224fff307ebc102818206c53fc454ecd37d8ac2060df5/sentencepiece-0.1.86-cp36-cp36m-manylinux1_x86_64.whl (1.0MB)\n",
            "\u001b[K     |████████████████████████████████| 1.0MB 53.3MB/s \n",
            "\u001b[?25hRequirement already satisfied: jmespath<1.0.0,>=0.7.1 in /usr/local/lib/python3.6/dist-packages (from boto3->transformers==2.8.0) (0.9.5)\n",
            "Requirement already satisfied: s3transfer<0.4.0,>=0.3.0 in /usr/local/lib/python3.6/dist-packages (from boto3->transformers==2.8.0) (0.3.3)\n",
            "Requirement already satisfied: botocore<1.16.0,>=1.15.47 in /usr/local/lib/python3.6/dist-packages (from boto3->transformers==2.8.0) (1.15.47)\n",
            "Requirement already satisfied: urllib3!=1.25.0,!=1.25.1,<1.26,>=1.21.1 in /usr/local/lib/python3.6/dist-packages (from requests->transformers==2.8.0) (1.24.3)\n",
            "Requirement already satisfied: chardet<4,>=3.0.2 in /usr/local/lib/python3.6/dist-packages (from requests->transformers==2.8.0) (3.0.4)\n",
            "Requirement already satisfied: idna<3,>=2.5 in /usr/local/lib/python3.6/dist-packages (from requests->transformers==2.8.0) (2.9)\n",
            "Requirement already satisfied: certifi>=2017.4.17 in /usr/local/lib/python3.6/dist-packages (from requests->transformers==2.8.0) (2020.4.5.1)\n",
            "Requirement already satisfied: six in /usr/local/lib/python3.6/dist-packages (from sacremoses->transformers==2.8.0) (1.12.0)\n",
            "Requirement already satisfied: click in /usr/local/lib/python3.6/dist-packages (from sacremoses->transformers==2.8.0) (7.1.2)\n",
            "Requirement already satisfied: joblib in /usr/local/lib/python3.6/dist-packages (from sacremoses->transformers==2.8.0) (0.14.1)\n",
            "Requirement already satisfied: python-dateutil<3.0.0,>=2.1 in /usr/local/lib/python3.6/dist-packages (from botocore<1.16.0,>=1.15.47->boto3->transformers==2.8.0) (2.8.1)\n",
            "Requirement already satisfied: docutils<0.16,>=0.10 in /usr/local/lib/python3.6/dist-packages (from botocore<1.16.0,>=1.15.47->boto3->transformers==2.8.0) (0.15.2)\n",
            "Building wheels for collected packages: sacremoses\n",
            "  Building wheel for sacremoses (setup.py) ... \u001b[?25l\u001b[?25hdone\n",
            "  Created wheel for sacremoses: filename=sacremoses-0.0.41-cp36-none-any.whl size=893334 sha256=7c3dd517fbc0307fd5119349abc7822f039185f1fa2687aa5e5e33aa8de7164b\n",
            "  Stored in directory: /root/.cache/pip/wheels/22/5a/d4/b020a81249de7dc63758a34222feaa668dbe8ebfe9170cc9b1\n",
            "Successfully built sacremoses\n",
            "Installing collected packages: sacremoses, tokenizers, sentencepiece, transformers\n",
            "Successfully installed sacremoses-0.0.41 sentencepiece-0.1.86 tokenizers-0.5.2 transformers-2.8.0\n"
          ],
          "name": "stdout"
        }
      ]
    },
    {
      "cell_type": "code",
      "metadata": {
        "id": "T7zTS5gIu0GK",
        "colab_type": "code",
        "colab": {}
      },
      "source": [
        "import torch\n",
        "import random\n",
        "import numpy as np\n",
        "seed = 42\n",
        "def set_seed(seed):\n",
        "    random.seed(seed)\n",
        "    np.random.seed(seed)\n",
        "    torch.manual_seed(seed)\n",
        "    torch.cuda.manual_seed_all(seed)\n",
        "\n",
        "set_seed(seed)"
      ],
      "execution_count": 0,
      "outputs": []
    },
    {
      "cell_type": "markdown",
      "metadata": {
        "id": "HC2qE6Oh3sZ5",
        "colab_type": "text"
      },
      "source": [
        "# Load the models"
      ]
    },
    {
      "cell_type": "code",
      "metadata": {
        "id": "4YpsOZ_qKZqA",
        "colab_type": "code",
        "colab": {}
      },
      "source": [
        "import numpy as np\n",
        "from scipy.special import softmax\n",
        "from torch import nn, optim, tensor, argmax\n",
        "from torch.utils.data import Dataset, DataLoader\n",
        "from transformers import AutoTokenizer, AutoModelForSequenceClassification, AutoConfig\n",
        "\n",
        "class CustomDataset(Dataset):\n",
        "    '''\n",
        "    This class provides a way to tokenize the dataset such that it is used\n",
        "    by pytorch's dataloader\n",
        "    '''\n",
        "    def __init__(self, dataframe, model_name, max_seq_length=50, pad_to_max_length=True, is_test=False):\n",
        "        self.len = len(dataframe)\n",
        "        self.data = dataframe\n",
        "        self.max_seq_length = max_seq_length\n",
        "        self.pad_to_max_length = pad_to_max_length\n",
        "        self.tokenizer = AutoTokenizer.from_pretrained(model_name)\n",
        "        self.is_test = is_test\n",
        "\n",
        "    def encode(self, sentence):\n",
        "        # This adds [CLS] and [SEP] by default\n",
        "        return self.tokenizer.encode(\n",
        "            sentence, max_length=self.max_seq_length, pad_to_max_length=self.pad_to_max_length)\n",
        "\n",
        "    def __getitem__(self, index):\n",
        "        # This function is used by the dataloader\n",
        "        item = self.data.iloc[index]\n",
        "        text = item['safe_text']\n",
        "        if self.is_test:\n",
        "          label = -1\n",
        "        else:\n",
        "          # Pytorch doesn't support using -1 as a label\n",
        "          # Thus, labels are mapped to [0, 1, 2] instead of [-1, 0, 1]\n",
        "          label = 1 + int(item['label'])\n",
        "        X = self.encode(text)\n",
        "        return tensor(X), label\n",
        "\n",
        "    def __len__(self):\n",
        "        # This function is used by the dataloader\n",
        "        return self.len\n",
        "\n",
        "class BertModel:\n",
        "    def __init__(self, model_name, config):\n",
        "        self.model_name = model_name\n",
        "        self.model = AutoModelForSequenceClassification.from_pretrained(model_name, config=config).cuda()\n",
        "        self.tokenizer = AutoTokenizer.from_pretrained(model_name)\n",
        "\n",
        "    def get_params(self):\n",
        "        return self.model.parameters()\n",
        "\n",
        "    def fit(self, train_df, epochs=4, learning_rate=1e-05, weight_decay=1e-5, params=None):\n",
        "        if not params:\n",
        "            params = {'batch_size': 30,\n",
        "                     'shuffle': False,\n",
        "                     'drop_last': False,\n",
        "                     'num_workers': 1}\n",
        "\n",
        "        train_dataloader = DataLoader(\n",
        "            CustomDataset(train_df, self.model_name, max_seq_length=50, pad_to_max_length=True),\n",
        "            **params)\n",
        "\n",
        "        # Create optimizer\n",
        "        # nn.MSELoss() was also used but didn't improve the results\n",
        "        loss_function = nn.CrossEntropyLoss()\n",
        "\n",
        "        optimizer = optim.Adam(params = self.get_params(), lr=learning_rate, weight_decay=weight_decay)\n",
        "\n",
        "        self.model.train()\n",
        "        average_loss = 0\n",
        "\n",
        "        for epoch in range(epochs):\n",
        "            for batch_number, (tokens, labels) in enumerate(train_dataloader):\n",
        "                tokens = tokens.cuda()\n",
        "                labels = labels.cuda()\n",
        "\n",
        "                optimizer.zero_grad()\n",
        "                # Forward pass\n",
        "                outputs = self.model.forward(tokens)[0]\n",
        "                predicted = argmax(outputs, dim=1)\n",
        "                loss = loss_function(outputs, labels)\n",
        "                # Backward pass\n",
        "                loss.backward()\n",
        "                optimizer.step()\n",
        "                average_loss += loss\n",
        "                if batch_number % 100 == 0:\n",
        "                    average_loss = average_loss / 100\n",
        "                    print(f'Epoch {epoch}: Batch {batch_number} -> Average loss {average_loss}')\n",
        "                    average_loss = 0\n",
        "\n",
        "    def predict(self, df, params=None):\n",
        "        '''This function only chooses the most probable class'''\n",
        "        if not params:\n",
        "            params = {'batch_size': 100,\n",
        "                     'shuffle': False,\n",
        "                     'drop_last': False,\n",
        "                     'num_workers': 1}\n",
        "        dataloader = DataLoader(\n",
        "            CustomDataset(df, self.model_name, max_seq_length=50, pad_to_max_length=True, is_test=True),\n",
        "            **params)\n",
        "        predictions = []\n",
        "        self.model.eval()\n",
        "        with torch.no_grad():\n",
        "          for batch_number, (tokens, labels) in enumerate(dataloader):\n",
        "              tokens = tokens.cuda()\n",
        "\n",
        "              outputs = self.model.forward(tokens)[0]\n",
        "              predicted = argmax(outputs, dim=1)\n",
        "              predictions = predictions + predicted.tolist()\n",
        "        # Pytorch doesn't support using -1 as a label\n",
        "        # Thus, labels are mapped to [0, 1, 2] instead of [-1, 0, 1] on training the model\n",
        "        # They are remapped again to [-1, 0, 1] by subtracting one\n",
        "        return [p-1 for p in predictions]\n",
        "\n",
        "    def predict_prob(self, df, params=None):\n",
        "        '''This function only chooses the expected value for the prediction class.\n",
        "        If the probabilities of labels [-1, 0, 1] were [P-1, P0, P1],\n",
        "        then the predicted class is (-1 * P-1) + 0 * P0 + (1 *P1).\n",
        "        This is used since the evaluation criteria was Least Square Error and not F1 score.\n",
        "        '''\n",
        "        if not params:\n",
        "            params = {'batch_size': 100,\n",
        "                     'shuffle': False,\n",
        "                     'drop_last': False,\n",
        "                     'num_workers': 1}\n",
        "        dataloader = DataLoader(\n",
        "            CustomDataset(df, self.model_name, max_seq_length=50, pad_to_max_length=True, is_test=True),\n",
        "            **params)\n",
        "        predictions = []\n",
        "        self.model.eval()\n",
        "        label_scores = np.array([[-1,0,1]]).T\n",
        "        with torch.no_grad():\n",
        "          for batch_number, (tokens, labels) in enumerate(dataloader):\n",
        "              tokens = tokens.cuda()\n",
        "\n",
        "              outputs = self.model.forward(tokens)[0]\n",
        "              probabilities = softmax(outputs.cpu().detach().numpy(), axis=1)\n",
        "\n",
        "              # Find the most expected value\n",
        "              scores = np.matmul(probabilities, label_scores).T.tolist()\n",
        "              predictions = predictions + scores\n",
        "        return predictions\n",
        "\n",
        "    def save_model(self, directory):\n",
        "        # Model save\n",
        "        torch.save(self.model.state_dict(), str(Path(directory, self.model_name)))"
      ],
      "execution_count": 0,
      "outputs": []
    },
    {
      "cell_type": "code",
      "metadata": {
        "id": "e4fr6wQSzF-x",
        "colab_type": "code",
        "outputId": "b2730191-ee6f-428a-8656-557ab1610921",
        "colab": {
          "base_uri": "https://localhost:8080/",
          "height": 117,
          "referenced_widgets": [
            "acf3024cadb244f391df7fc0b6da2d74",
            "887eab671e1147a99ade02de7be7ca55",
            "a7c29413207b4dcabd585acc7d6e0ae3",
            "c769404e1fba46f48b21ad8a6961a971",
            "9c86312e67fe40f3af3f6c85844bf0dd",
            "cff7c3e33b3a4376bf860c666db998e9",
            "c17ff4ff672548af8332a2806580cd4c",
            "95f375fd2374452f9d64707973c9d406",
            "28a372f269a444b799e643e0a6aa6ebd",
            "5a76c7c6f7314792840e75951fad79a3",
            "ecd9621d4ba347eda904b653d7fe8971",
            "07123fe93ee3451fb8e839cb25a26b64",
            "389965f08c7f4c0cb594cfbfb684c499",
            "ad84e076dbe14c2ab18e92960f9a931f",
            "37fa7599b50b4e47bb43dc91bc50165d",
            "d20fdf9db16a4c38b3741f9ddf7bdcfb"
          ]
        }
      },
      "source": [
        "labels = [0, 1, 2]\n",
        "label_map = {i:i for i in labels}\n",
        "num_labels = len(labels)\n",
        "config = AutoConfig.from_pretrained('bert-large-cased',\n",
        "                           num_labels=num_labels,\n",
        "                           id2label=label_map,\n",
        "                           label2id={label: i for i, label in enumerate(labels)})\n",
        "full_model = BertModel('bert-large-cased', config)"
      ],
      "execution_count": 0,
      "outputs": [
        {
          "output_type": "display_data",
          "data": {
            "application/vnd.jupyter.widget-view+json": {
              "model_id": "acf3024cadb244f391df7fc0b6da2d74",
              "version_minor": 0,
              "version_major": 2
            },
            "text/plain": [
              "HBox(children=(IntProgress(value=0, description='Downloading', max=625, style=ProgressStyle(description_width=…"
            ]
          },
          "metadata": {
            "tags": []
          }
        },
        {
          "output_type": "stream",
          "text": [
            "\n"
          ],
          "name": "stdout"
        },
        {
          "output_type": "display_data",
          "data": {
            "application/vnd.jupyter.widget-view+json": {
              "model_id": "28a372f269a444b799e643e0a6aa6ebd",
              "version_minor": 0,
              "version_major": 2
            },
            "text/plain": [
              "HBox(children=(IntProgress(value=0, description='Downloading', max=1338740706, style=ProgressStyle(description…"
            ]
          },
          "metadata": {
            "tags": []
          }
        },
        {
          "output_type": "stream",
          "text": [
            "\n"
          ],
          "name": "stdout"
        }
      ]
    },
    {
      "cell_type": "code",
      "metadata": {
        "id": "roEZvmRQu1yR",
        "colab_type": "code",
        "colab": {}
      },
      "source": [
        "state_dict = torch.load('models/bert-large-cased-0')"
      ],
      "execution_count": 0,
      "outputs": []
    },
    {
      "cell_type": "code",
      "metadata": {
        "id": "NqAz6_akzLmR",
        "colab_type": "code",
        "outputId": "0efb4f97-729c-4a92-d331-13621fe572a9",
        "colab": {
          "base_uri": "https://localhost:8080/",
          "height": 36
        }
      },
      "source": [
        "full_model.model.load_state_dict(state_dict)"
      ],
      "execution_count": 8,
      "outputs": [
        {
          "output_type": "execute_result",
          "data": {
            "text/plain": [
              "<All keys matched successfully>"
            ]
          },
          "metadata": {
            "tags": []
          },
          "execution_count": 8
        }
      ]
    },
    {
      "cell_type": "markdown",
      "metadata": {
        "id": "V1VXliOG4A3l",
        "colab_type": "text"
      },
      "source": [
        "# Load the datasets"
      ]
    },
    {
      "cell_type": "code",
      "metadata": {
        "id": "CodJK8SV6xOd",
        "colab_type": "code",
        "colab": {}
      },
      "source": [
        "import pandas as pd\n",
        "from sklearn.model_selection import train_test_split"
      ],
      "execution_count": 0,
      "outputs": []
    },
    {
      "cell_type": "code",
      "metadata": {
        "id": "D8JGl77S7JmT",
        "colab_type": "code",
        "colab": {}
      },
      "source": [
        "train_df, dev_df = train_test_split(pd.read_csv('data/Train.csv').dropna(), random_state=42)"
      ],
      "execution_count": 0,
      "outputs": []
    },
    {
      "cell_type": "code",
      "metadata": {
        "id": "LUDS1A267n3W",
        "colab_type": "code",
        "colab": {}
      },
      "source": [
        "test_df = pd.read_csv('data/Test.csv')"
      ],
      "execution_count": 0,
      "outputs": []
    },
    {
      "cell_type": "markdown",
      "metadata": {
        "id": "DHjZE3qF5CVc",
        "colab_type": "text"
      },
      "source": [
        "# Generate final scores"
      ]
    },
    {
      "cell_type": "code",
      "metadata": {
        "id": "AGAc_8iooPX8",
        "colab_type": "code",
        "colab": {}
      },
      "source": [
        "sample_submission = pd.read_csv('data/SampleSubmission.csv')\n",
        "submission_df = sample_submission.merge(test_df, how='left', on='tweet_id')\n",
        "submission_df['safe_text'].fillna('', inplace=True)"
      ],
      "execution_count": 0,
      "outputs": []
    },
    {
      "cell_type": "code",
      "metadata": {
        "id": "-aljTfyRuUyf",
        "colab_type": "code",
        "colab": {}
      },
      "source": [
        "submission_pred = sum(full_model.predict_prob(submission_df), [])"
      ],
      "execution_count": 0,
      "outputs": []
    },
    {
      "cell_type": "code",
      "metadata": {
        "id": "v4xmfKB2oj54",
        "colab_type": "code",
        "colab": {}
      },
      "source": [
        "submission_df['target'] = submission_pred"
      ],
      "execution_count": 0,
      "outputs": []
    },
    {
      "cell_type": "code",
      "metadata": {
        "id": "3Gm6BlOWouJ9",
        "colab_type": "code",
        "colab": {}
      },
      "source": [
        "submission_df[['tweet_id', 'target']].to_csv('submissions/submission.csv', index=False)"
      ],
      "execution_count": 0,
      "outputs": []
    }
  ]
}